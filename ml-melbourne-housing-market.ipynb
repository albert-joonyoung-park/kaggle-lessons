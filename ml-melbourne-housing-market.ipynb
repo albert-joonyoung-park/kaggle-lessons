{
 "cells": [
  {
   "cell_type": "code",
   "execution_count": 1,
   "id": "e07ed9f9",
   "metadata": {
    "_cell_guid": "b1076dfc-b9ad-4769-8c92-a6c4dae69d19",
    "_uuid": "8f2839f25d086af736a60e9eeb907d3b93b6e0e5",
    "execution": {
     "iopub.execute_input": "2023-07-05T20:57:54.438043Z",
     "iopub.status.busy": "2023-07-05T20:57:54.437668Z",
     "iopub.status.idle": "2023-07-05T20:57:54.452371Z",
     "shell.execute_reply": "2023-07-05T20:57:54.451420Z"
    },
    "papermill": {
     "duration": 0.027551,
     "end_time": "2023-07-05T20:57:54.454392",
     "exception": false,
     "start_time": "2023-07-05T20:57:54.426841",
     "status": "completed"
    },
    "tags": []
   },
   "outputs": [
    {
     "name": "stdout",
     "output_type": "stream",
     "text": [
      "/kaggle/input/mlebourne-20162017/suburb-10-vic.geojson\n",
      "/kaggle/input/mlebourne-20162017/melb_data.csv\n"
     ]
    }
   ],
   "source": [
    "# This Python 3 environment comes with many helpful analytics libraries installed\n",
    "# It is defined by the kaggle/python Docker image: https://github.com/kaggle/docker-python\n",
    "# For example, here's several helpful packages to load\n",
    "\n",
    "import numpy as np # linear algebra\n",
    "import pandas as pd # data processing, CSV file I/O (e.g. pd.read_csv)\n",
    "\n",
    "# Input data files are available in the read-only \"../input/\" directory\n",
    "# For example, running this (by clicking run or pressing Shift+Enter) will list all files under the input directory\n",
    "\n",
    "import os\n",
    "for dirname, _, filenames in os.walk('/kaggle/input'):\n",
    "    for filename in filenames:\n",
    "        print(os.path.join(dirname, filename))\n",
    "\n",
    "# You can write up to 20GB to the current directory (/kaggle/working/) that gets preserved as output when you create a version using \"Save & Run All\" \n",
    "# You can also write temporary files to /kaggle/temp/, but they won't be saved outside of the current session"
   ]
  },
  {
   "cell_type": "markdown",
   "id": "b5d9d727",
   "metadata": {
    "papermill": {
     "duration": 0.006481,
     "end_time": "2023-07-05T20:57:54.467865",
     "exception": false,
     "start_time": "2023-07-05T20:57:54.461384",
     "status": "completed"
    },
    "tags": []
   },
   "source": [
    "### Import pandas "
   ]
  },
  {
   "cell_type": "code",
   "execution_count": 2,
   "id": "f7b2b83b",
   "metadata": {
    "execution": {
     "iopub.execute_input": "2023-07-05T20:57:54.483329Z",
     "iopub.status.busy": "2023-07-05T20:57:54.482955Z",
     "iopub.status.idle": "2023-07-05T20:57:54.486925Z",
     "shell.execute_reply": "2023-07-05T20:57:54.486060Z"
    },
    "papermill": {
     "duration": 0.013802,
     "end_time": "2023-07-05T20:57:54.488653",
     "exception": false,
     "start_time": "2023-07-05T20:57:54.474851",
     "status": "completed"
    },
    "tags": []
   },
   "outputs": [],
   "source": [
    "import pandas as pd"
   ]
  },
  {
   "cell_type": "markdown",
   "id": "409709be",
   "metadata": {
    "papermill": {
     "duration": 0.006197,
     "end_time": "2023-07-05T20:57:54.501897",
     "exception": false,
     "start_time": "2023-07-05T20:57:54.495700",
     "status": "completed"
    },
    "tags": []
   },
   "source": [
    "### Read and save the dataset"
   ]
  },
  {
   "cell_type": "code",
   "execution_count": 3,
   "id": "c224a9b7",
   "metadata": {
    "execution": {
     "iopub.execute_input": "2023-07-05T20:57:54.518005Z",
     "iopub.status.busy": "2023-07-05T20:57:54.517642Z",
     "iopub.status.idle": "2023-07-05T20:57:54.592964Z",
     "shell.execute_reply": "2023-07-05T20:57:54.592189Z"
    },
    "papermill": {
     "duration": 0.085992,
     "end_time": "2023-07-05T20:57:54.595006",
     "exception": false,
     "start_time": "2023-07-05T20:57:54.509014",
     "status": "completed"
    },
    "tags": []
   },
   "outputs": [],
   "source": [
    "# read and save the csv data\n",
    "melbourne_file_path = '/kaggle/input/mlebourne-20162017/melb_data.csv'\n",
    "melbourne_data = pd.read_csv(melbourne_file_path)"
   ]
  },
  {
   "cell_type": "markdown",
   "id": "59d97862",
   "metadata": {
    "papermill": {
     "duration": 0.006411,
     "end_time": "2023-07-05T20:57:54.608302",
     "exception": false,
     "start_time": "2023-07-05T20:57:54.601891",
     "status": "completed"
    },
    "tags": []
   },
   "source": [
    "### Quick data inspection and summary"
   ]
  },
  {
   "cell_type": "code",
   "execution_count": 4,
   "id": "3bf88e64",
   "metadata": {
    "execution": {
     "iopub.execute_input": "2023-07-05T20:57:54.623736Z",
     "iopub.status.busy": "2023-07-05T20:57:54.623142Z",
     "iopub.status.idle": "2023-07-05T20:57:54.701373Z",
     "shell.execute_reply": "2023-07-05T20:57:54.700295Z"
    },
    "papermill": {
     "duration": 0.08847,
     "end_time": "2023-07-05T20:57:54.703706",
     "exception": false,
     "start_time": "2023-07-05T20:57:54.615236",
     "status": "completed"
    },
    "tags": []
   },
   "outputs": [
    {
     "name": "stdout",
     "output_type": "stream",
     "text": [
      "(13580, 21)\n",
      "Index(['Suburb', 'Address', 'Rooms', 'Type', 'Price', 'Method', 'SellerG',\n",
      "       'Date', 'Distance', 'Postcode', 'Bedroom2', 'Bathroom', 'Car',\n",
      "       'Landsize', 'BuildingArea', 'YearBuilt', 'CouncilArea', 'Lattitude',\n",
      "       'Longtitude', 'Regionname', 'Propertycount'],\n",
      "      dtype='object')\n"
     ]
    },
    {
     "data": {
      "text/html": [
       "<div>\n",
       "<style scoped>\n",
       "    .dataframe tbody tr th:only-of-type {\n",
       "        vertical-align: middle;\n",
       "    }\n",
       "\n",
       "    .dataframe tbody tr th {\n",
       "        vertical-align: top;\n",
       "    }\n",
       "\n",
       "    .dataframe thead th {\n",
       "        text-align: right;\n",
       "    }\n",
       "</style>\n",
       "<table border=\"1\" class=\"dataframe\">\n",
       "  <thead>\n",
       "    <tr style=\"text-align: right;\">\n",
       "      <th></th>\n",
       "      <th>Rooms</th>\n",
       "      <th>Price</th>\n",
       "      <th>Distance</th>\n",
       "      <th>Postcode</th>\n",
       "      <th>Bedroom2</th>\n",
       "      <th>Bathroom</th>\n",
       "      <th>Car</th>\n",
       "      <th>Landsize</th>\n",
       "      <th>BuildingArea</th>\n",
       "      <th>YearBuilt</th>\n",
       "      <th>Lattitude</th>\n",
       "      <th>Longtitude</th>\n",
       "      <th>Propertycount</th>\n",
       "    </tr>\n",
       "  </thead>\n",
       "  <tbody>\n",
       "    <tr>\n",
       "      <th>count</th>\n",
       "      <td>13580.000000</td>\n",
       "      <td>1.358000e+04</td>\n",
       "      <td>13580.000000</td>\n",
       "      <td>13580.000000</td>\n",
       "      <td>13580.000000</td>\n",
       "      <td>13580.000000</td>\n",
       "      <td>13518.000000</td>\n",
       "      <td>13580.000000</td>\n",
       "      <td>7130.000000</td>\n",
       "      <td>8205.000000</td>\n",
       "      <td>13580.000000</td>\n",
       "      <td>13580.000000</td>\n",
       "      <td>13580.000000</td>\n",
       "    </tr>\n",
       "    <tr>\n",
       "      <th>mean</th>\n",
       "      <td>2.937997</td>\n",
       "      <td>1.075684e+06</td>\n",
       "      <td>10.137776</td>\n",
       "      <td>3105.301915</td>\n",
       "      <td>2.914728</td>\n",
       "      <td>1.534242</td>\n",
       "      <td>1.610075</td>\n",
       "      <td>558.416127</td>\n",
       "      <td>151.967650</td>\n",
       "      <td>1964.684217</td>\n",
       "      <td>-37.809203</td>\n",
       "      <td>144.995216</td>\n",
       "      <td>7454.417378</td>\n",
       "    </tr>\n",
       "    <tr>\n",
       "      <th>std</th>\n",
       "      <td>0.955748</td>\n",
       "      <td>6.393107e+05</td>\n",
       "      <td>5.868725</td>\n",
       "      <td>90.676964</td>\n",
       "      <td>0.965921</td>\n",
       "      <td>0.691712</td>\n",
       "      <td>0.962634</td>\n",
       "      <td>3990.669241</td>\n",
       "      <td>541.014538</td>\n",
       "      <td>37.273762</td>\n",
       "      <td>0.079260</td>\n",
       "      <td>0.103916</td>\n",
       "      <td>4378.581772</td>\n",
       "    </tr>\n",
       "    <tr>\n",
       "      <th>min</th>\n",
       "      <td>1.000000</td>\n",
       "      <td>8.500000e+04</td>\n",
       "      <td>0.000000</td>\n",
       "      <td>3000.000000</td>\n",
       "      <td>0.000000</td>\n",
       "      <td>0.000000</td>\n",
       "      <td>0.000000</td>\n",
       "      <td>0.000000</td>\n",
       "      <td>0.000000</td>\n",
       "      <td>1196.000000</td>\n",
       "      <td>-38.182550</td>\n",
       "      <td>144.431810</td>\n",
       "      <td>249.000000</td>\n",
       "    </tr>\n",
       "    <tr>\n",
       "      <th>25%</th>\n",
       "      <td>2.000000</td>\n",
       "      <td>6.500000e+05</td>\n",
       "      <td>6.100000</td>\n",
       "      <td>3044.000000</td>\n",
       "      <td>2.000000</td>\n",
       "      <td>1.000000</td>\n",
       "      <td>1.000000</td>\n",
       "      <td>177.000000</td>\n",
       "      <td>93.000000</td>\n",
       "      <td>1940.000000</td>\n",
       "      <td>-37.856822</td>\n",
       "      <td>144.929600</td>\n",
       "      <td>4380.000000</td>\n",
       "    </tr>\n",
       "    <tr>\n",
       "      <th>50%</th>\n",
       "      <td>3.000000</td>\n",
       "      <td>9.030000e+05</td>\n",
       "      <td>9.200000</td>\n",
       "      <td>3084.000000</td>\n",
       "      <td>3.000000</td>\n",
       "      <td>1.000000</td>\n",
       "      <td>2.000000</td>\n",
       "      <td>440.000000</td>\n",
       "      <td>126.000000</td>\n",
       "      <td>1970.000000</td>\n",
       "      <td>-37.802355</td>\n",
       "      <td>145.000100</td>\n",
       "      <td>6555.000000</td>\n",
       "    </tr>\n",
       "    <tr>\n",
       "      <th>75%</th>\n",
       "      <td>3.000000</td>\n",
       "      <td>1.330000e+06</td>\n",
       "      <td>13.000000</td>\n",
       "      <td>3148.000000</td>\n",
       "      <td>3.000000</td>\n",
       "      <td>2.000000</td>\n",
       "      <td>2.000000</td>\n",
       "      <td>651.000000</td>\n",
       "      <td>174.000000</td>\n",
       "      <td>1999.000000</td>\n",
       "      <td>-37.756400</td>\n",
       "      <td>145.058305</td>\n",
       "      <td>10331.000000</td>\n",
       "    </tr>\n",
       "    <tr>\n",
       "      <th>max</th>\n",
       "      <td>10.000000</td>\n",
       "      <td>9.000000e+06</td>\n",
       "      <td>48.100000</td>\n",
       "      <td>3977.000000</td>\n",
       "      <td>20.000000</td>\n",
       "      <td>8.000000</td>\n",
       "      <td>10.000000</td>\n",
       "      <td>433014.000000</td>\n",
       "      <td>44515.000000</td>\n",
       "      <td>2018.000000</td>\n",
       "      <td>-37.408530</td>\n",
       "      <td>145.526350</td>\n",
       "      <td>21650.000000</td>\n",
       "    </tr>\n",
       "  </tbody>\n",
       "</table>\n",
       "</div>"
      ],
      "text/plain": [
       "              Rooms         Price      Distance      Postcode      Bedroom2  \\\n",
       "count  13580.000000  1.358000e+04  13580.000000  13580.000000  13580.000000   \n",
       "mean       2.937997  1.075684e+06     10.137776   3105.301915      2.914728   \n",
       "std        0.955748  6.393107e+05      5.868725     90.676964      0.965921   \n",
       "min        1.000000  8.500000e+04      0.000000   3000.000000      0.000000   \n",
       "25%        2.000000  6.500000e+05      6.100000   3044.000000      2.000000   \n",
       "50%        3.000000  9.030000e+05      9.200000   3084.000000      3.000000   \n",
       "75%        3.000000  1.330000e+06     13.000000   3148.000000      3.000000   \n",
       "max       10.000000  9.000000e+06     48.100000   3977.000000     20.000000   \n",
       "\n",
       "           Bathroom           Car       Landsize  BuildingArea    YearBuilt  \\\n",
       "count  13580.000000  13518.000000   13580.000000   7130.000000  8205.000000   \n",
       "mean       1.534242      1.610075     558.416127    151.967650  1964.684217   \n",
       "std        0.691712      0.962634    3990.669241    541.014538    37.273762   \n",
       "min        0.000000      0.000000       0.000000      0.000000  1196.000000   \n",
       "25%        1.000000      1.000000     177.000000     93.000000  1940.000000   \n",
       "50%        1.000000      2.000000     440.000000    126.000000  1970.000000   \n",
       "75%        2.000000      2.000000     651.000000    174.000000  1999.000000   \n",
       "max        8.000000     10.000000  433014.000000  44515.000000  2018.000000   \n",
       "\n",
       "          Lattitude    Longtitude  Propertycount  \n",
       "count  13580.000000  13580.000000   13580.000000  \n",
       "mean     -37.809203    144.995216    7454.417378  \n",
       "std        0.079260      0.103916    4378.581772  \n",
       "min      -38.182550    144.431810     249.000000  \n",
       "25%      -37.856822    144.929600    4380.000000  \n",
       "50%      -37.802355    145.000100    6555.000000  \n",
       "75%      -37.756400    145.058305   10331.000000  \n",
       "max      -37.408530    145.526350   21650.000000  "
      ]
     },
     "execution_count": 4,
     "metadata": {},
     "output_type": "execute_result"
    }
   ],
   "source": [
    "# quick shape and summary of the dataset\n",
    "print(melbourne_data.shape)\n",
    "print(melbourne_data.columns)\n",
    "melbourne_data.describe()\n",
    "\n",
    "# mean: verage\n",
    "# std: standard deviation; measures how numerically spread out the values are.\n",
    "# min, 25%, 50%, 75% and max:"
   ]
  },
  {
   "cell_type": "markdown",
   "id": "f345b3c6",
   "metadata": {
    "papermill": {
     "duration": 0.007212,
     "end_time": "2023-07-05T20:57:54.719024",
     "exception": false,
     "start_time": "2023-07-05T20:57:54.711812",
     "status": "completed"
    },
    "tags": []
   },
   "source": [
    "### Access a few fields from the summary"
   ]
  },
  {
   "cell_type": "code",
   "execution_count": 5,
   "id": "3a3d66ed",
   "metadata": {
    "execution": {
     "iopub.execute_input": "2023-07-05T20:57:54.735298Z",
     "iopub.status.busy": "2023-07-05T20:57:54.734644Z",
     "iopub.status.idle": "2023-07-05T20:57:54.770461Z",
     "shell.execute_reply": "2023-07-05T20:57:54.768987Z"
    },
    "papermill": {
     "duration": 0.047172,
     "end_time": "2023-07-05T20:57:54.773313",
     "exception": false,
     "start_time": "2023-07-05T20:57:54.726141",
     "status": "completed"
    },
    "tags": []
   },
   "outputs": [
    {
     "name": "stdout",
     "output_type": "stream",
     "text": [
      "<class 'pandas.core.frame.DataFrame'>\n",
      "558.4161266568483\n",
      "5.0\n"
     ]
    }
   ],
   "source": [
    "# from data frame saved with data summary\n",
    "df = melbourne_data.describe()\n",
    "print(type(df))\n",
    "\n",
    "# average lot size\n",
    "avg_lot_size = df.loc['mean']['Landsize']\n",
    "print(avg_lot_size)\n",
    "\n",
    "# how old is the newest building? - current year - newest YearBuilt\n",
    "import datetime\n",
    "from datetime import datetime\n",
    "newest_building_age = datetime.now().year - df.loc['max']['YearBuilt']\n",
    "print(newest_building_age)\n"
   ]
  },
  {
   "cell_type": "markdown",
   "id": "1b8670c0",
   "metadata": {
    "papermill": {
     "duration": 0.006882,
     "end_time": "2023-07-05T20:57:54.787594",
     "exception": false,
     "start_time": "2023-07-05T20:57:54.780712",
     "status": "completed"
    },
    "tags": []
   },
   "source": [
    "#### Selecting Data for Modeling\n",
    "* Dataset had too many variables to wrap your head around, or even to print out nicely. How can you pare down this overwhelming amount of data to something you can understand?   \n",
    "* We'll start by picking a few variables using our intuition. Later courses will show you statistical techniques to automatically prioritize variables. \n",
    "* To choose variables/columns, we'll need to see a list of all columns in the dataset. That is done with the columns property of the DataFrame (the bottom line of code below)."
   ]
  },
  {
   "cell_type": "code",
   "execution_count": 6,
   "id": "28fac4ff",
   "metadata": {
    "execution": {
     "iopub.execute_input": "2023-07-05T20:57:54.803199Z",
     "iopub.status.busy": "2023-07-05T20:57:54.802816Z",
     "iopub.status.idle": "2023-07-05T20:57:54.809290Z",
     "shell.execute_reply": "2023-07-05T20:57:54.808020Z"
    },
    "papermill": {
     "duration": 0.016534,
     "end_time": "2023-07-05T20:57:54.811211",
     "exception": false,
     "start_time": "2023-07-05T20:57:54.794677",
     "status": "completed"
    },
    "tags": []
   },
   "outputs": [
    {
     "data": {
      "text/plain": [
       "Index(['Suburb', 'Address', 'Rooms', 'Type', 'Price', 'Method', 'SellerG',\n",
       "       'Date', 'Distance', 'Postcode', 'Bedroom2', 'Bathroom', 'Car',\n",
       "       'Landsize', 'BuildingArea', 'YearBuilt', 'CouncilArea', 'Lattitude',\n",
       "       'Longtitude', 'Regionname', 'Propertycount'],\n",
       "      dtype='object')"
      ]
     },
     "execution_count": 6,
     "metadata": {},
     "output_type": "execute_result"
    }
   ],
   "source": [
    "# list columns\n",
    "melbourne_data.columns"
   ]
  },
  {
   "cell_type": "code",
   "execution_count": 7,
   "id": "551795e0",
   "metadata": {
    "execution": {
     "iopub.execute_input": "2023-07-05T20:57:54.827823Z",
     "iopub.status.busy": "2023-07-05T20:57:54.827437Z",
     "iopub.status.idle": "2023-07-05T20:57:54.886770Z",
     "shell.execute_reply": "2023-07-05T20:57:54.885535Z"
    },
    "papermill": {
     "duration": 0.07056,
     "end_time": "2023-07-05T20:57:54.889080",
     "exception": false,
     "start_time": "2023-07-05T20:57:54.818520",
     "status": "completed"
    },
    "tags": []
   },
   "outputs": [
    {
     "data": {
      "text/html": [
       "<div>\n",
       "<style scoped>\n",
       "    .dataframe tbody tr th:only-of-type {\n",
       "        vertical-align: middle;\n",
       "    }\n",
       "\n",
       "    .dataframe tbody tr th {\n",
       "        vertical-align: top;\n",
       "    }\n",
       "\n",
       "    .dataframe thead th {\n",
       "        text-align: right;\n",
       "    }\n",
       "</style>\n",
       "<table border=\"1\" class=\"dataframe\">\n",
       "  <thead>\n",
       "    <tr style=\"text-align: right;\">\n",
       "      <th></th>\n",
       "      <th>Suburb</th>\n",
       "      <th>Address</th>\n",
       "      <th>Rooms</th>\n",
       "      <th>Type</th>\n",
       "      <th>Price</th>\n",
       "      <th>Method</th>\n",
       "      <th>SellerG</th>\n",
       "      <th>Date</th>\n",
       "      <th>Distance</th>\n",
       "      <th>Postcode</th>\n",
       "      <th>...</th>\n",
       "      <th>Bathroom</th>\n",
       "      <th>Car</th>\n",
       "      <th>Landsize</th>\n",
       "      <th>BuildingArea</th>\n",
       "      <th>YearBuilt</th>\n",
       "      <th>CouncilArea</th>\n",
       "      <th>Lattitude</th>\n",
       "      <th>Longtitude</th>\n",
       "      <th>Regionname</th>\n",
       "      <th>Propertycount</th>\n",
       "    </tr>\n",
       "  </thead>\n",
       "  <tbody>\n",
       "    <tr>\n",
       "      <th>1</th>\n",
       "      <td>Abbotsford</td>\n",
       "      <td>25 Bloomburg St</td>\n",
       "      <td>2</td>\n",
       "      <td>h</td>\n",
       "      <td>1035000.0</td>\n",
       "      <td>S</td>\n",
       "      <td>Biggin</td>\n",
       "      <td>4/02/2016</td>\n",
       "      <td>2.5</td>\n",
       "      <td>3067.0</td>\n",
       "      <td>...</td>\n",
       "      <td>1.0</td>\n",
       "      <td>0.0</td>\n",
       "      <td>156.0</td>\n",
       "      <td>79.00</td>\n",
       "      <td>1900.0</td>\n",
       "      <td>Yarra</td>\n",
       "      <td>-37.80790</td>\n",
       "      <td>144.99340</td>\n",
       "      <td>Northern Metropolitan</td>\n",
       "      <td>4019.0</td>\n",
       "    </tr>\n",
       "    <tr>\n",
       "      <th>2</th>\n",
       "      <td>Abbotsford</td>\n",
       "      <td>5 Charles St</td>\n",
       "      <td>3</td>\n",
       "      <td>h</td>\n",
       "      <td>1465000.0</td>\n",
       "      <td>SP</td>\n",
       "      <td>Biggin</td>\n",
       "      <td>4/03/2017</td>\n",
       "      <td>2.5</td>\n",
       "      <td>3067.0</td>\n",
       "      <td>...</td>\n",
       "      <td>2.0</td>\n",
       "      <td>0.0</td>\n",
       "      <td>134.0</td>\n",
       "      <td>150.00</td>\n",
       "      <td>1900.0</td>\n",
       "      <td>Yarra</td>\n",
       "      <td>-37.80930</td>\n",
       "      <td>144.99440</td>\n",
       "      <td>Northern Metropolitan</td>\n",
       "      <td>4019.0</td>\n",
       "    </tr>\n",
       "    <tr>\n",
       "      <th>4</th>\n",
       "      <td>Abbotsford</td>\n",
       "      <td>55a Park St</td>\n",
       "      <td>4</td>\n",
       "      <td>h</td>\n",
       "      <td>1600000.0</td>\n",
       "      <td>VB</td>\n",
       "      <td>Nelson</td>\n",
       "      <td>4/06/2016</td>\n",
       "      <td>2.5</td>\n",
       "      <td>3067.0</td>\n",
       "      <td>...</td>\n",
       "      <td>1.0</td>\n",
       "      <td>2.0</td>\n",
       "      <td>120.0</td>\n",
       "      <td>142.00</td>\n",
       "      <td>2014.0</td>\n",
       "      <td>Yarra</td>\n",
       "      <td>-37.80720</td>\n",
       "      <td>144.99410</td>\n",
       "      <td>Northern Metropolitan</td>\n",
       "      <td>4019.0</td>\n",
       "    </tr>\n",
       "    <tr>\n",
       "      <th>6</th>\n",
       "      <td>Abbotsford</td>\n",
       "      <td>124 Yarra St</td>\n",
       "      <td>3</td>\n",
       "      <td>h</td>\n",
       "      <td>1876000.0</td>\n",
       "      <td>S</td>\n",
       "      <td>Nelson</td>\n",
       "      <td>7/05/2016</td>\n",
       "      <td>2.5</td>\n",
       "      <td>3067.0</td>\n",
       "      <td>...</td>\n",
       "      <td>2.0</td>\n",
       "      <td>0.0</td>\n",
       "      <td>245.0</td>\n",
       "      <td>210.00</td>\n",
       "      <td>1910.0</td>\n",
       "      <td>Yarra</td>\n",
       "      <td>-37.80240</td>\n",
       "      <td>144.99930</td>\n",
       "      <td>Northern Metropolitan</td>\n",
       "      <td>4019.0</td>\n",
       "    </tr>\n",
       "    <tr>\n",
       "      <th>7</th>\n",
       "      <td>Abbotsford</td>\n",
       "      <td>98 Charles St</td>\n",
       "      <td>2</td>\n",
       "      <td>h</td>\n",
       "      <td>1636000.0</td>\n",
       "      <td>S</td>\n",
       "      <td>Nelson</td>\n",
       "      <td>8/10/2016</td>\n",
       "      <td>2.5</td>\n",
       "      <td>3067.0</td>\n",
       "      <td>...</td>\n",
       "      <td>1.0</td>\n",
       "      <td>2.0</td>\n",
       "      <td>256.0</td>\n",
       "      <td>107.00</td>\n",
       "      <td>1890.0</td>\n",
       "      <td>Yarra</td>\n",
       "      <td>-37.80600</td>\n",
       "      <td>144.99540</td>\n",
       "      <td>Northern Metropolitan</td>\n",
       "      <td>4019.0</td>\n",
       "    </tr>\n",
       "    <tr>\n",
       "      <th>...</th>\n",
       "      <td>...</td>\n",
       "      <td>...</td>\n",
       "      <td>...</td>\n",
       "      <td>...</td>\n",
       "      <td>...</td>\n",
       "      <td>...</td>\n",
       "      <td>...</td>\n",
       "      <td>...</td>\n",
       "      <td>...</td>\n",
       "      <td>...</td>\n",
       "      <td>...</td>\n",
       "      <td>...</td>\n",
       "      <td>...</td>\n",
       "      <td>...</td>\n",
       "      <td>...</td>\n",
       "      <td>...</td>\n",
       "      <td>...</td>\n",
       "      <td>...</td>\n",
       "      <td>...</td>\n",
       "      <td>...</td>\n",
       "      <td>...</td>\n",
       "    </tr>\n",
       "    <tr>\n",
       "      <th>12205</th>\n",
       "      <td>Whittlesea</td>\n",
       "      <td>30 Sherwin St</td>\n",
       "      <td>3</td>\n",
       "      <td>h</td>\n",
       "      <td>601000.0</td>\n",
       "      <td>S</td>\n",
       "      <td>Ray</td>\n",
       "      <td>29/07/2017</td>\n",
       "      <td>35.5</td>\n",
       "      <td>3757.0</td>\n",
       "      <td>...</td>\n",
       "      <td>2.0</td>\n",
       "      <td>1.0</td>\n",
       "      <td>972.0</td>\n",
       "      <td>149.00</td>\n",
       "      <td>1996.0</td>\n",
       "      <td>Whittlesea</td>\n",
       "      <td>-37.51232</td>\n",
       "      <td>145.13282</td>\n",
       "      <td>Northern Victoria</td>\n",
       "      <td>2170.0</td>\n",
       "    </tr>\n",
       "    <tr>\n",
       "      <th>12206</th>\n",
       "      <td>Williamstown</td>\n",
       "      <td>75 Cecil St</td>\n",
       "      <td>3</td>\n",
       "      <td>h</td>\n",
       "      <td>1050000.0</td>\n",
       "      <td>VB</td>\n",
       "      <td>Williams</td>\n",
       "      <td>29/07/2017</td>\n",
       "      <td>6.8</td>\n",
       "      <td>3016.0</td>\n",
       "      <td>...</td>\n",
       "      <td>1.0</td>\n",
       "      <td>0.0</td>\n",
       "      <td>179.0</td>\n",
       "      <td>115.00</td>\n",
       "      <td>1890.0</td>\n",
       "      <td>Hobsons Bay</td>\n",
       "      <td>-37.86558</td>\n",
       "      <td>144.90474</td>\n",
       "      <td>Western Metropolitan</td>\n",
       "      <td>6380.0</td>\n",
       "    </tr>\n",
       "    <tr>\n",
       "      <th>12207</th>\n",
       "      <td>Williamstown</td>\n",
       "      <td>2/29 Dover Rd</td>\n",
       "      <td>1</td>\n",
       "      <td>u</td>\n",
       "      <td>385000.0</td>\n",
       "      <td>SP</td>\n",
       "      <td>Williams</td>\n",
       "      <td>29/07/2017</td>\n",
       "      <td>6.8</td>\n",
       "      <td>3016.0</td>\n",
       "      <td>...</td>\n",
       "      <td>1.0</td>\n",
       "      <td>1.0</td>\n",
       "      <td>0.0</td>\n",
       "      <td>35.64</td>\n",
       "      <td>1967.0</td>\n",
       "      <td>Hobsons Bay</td>\n",
       "      <td>-37.85588</td>\n",
       "      <td>144.89936</td>\n",
       "      <td>Western Metropolitan</td>\n",
       "      <td>6380.0</td>\n",
       "    </tr>\n",
       "    <tr>\n",
       "      <th>12209</th>\n",
       "      <td>Windsor</td>\n",
       "      <td>201/152 Peel St</td>\n",
       "      <td>2</td>\n",
       "      <td>u</td>\n",
       "      <td>560000.0</td>\n",
       "      <td>PI</td>\n",
       "      <td>hockingstuart</td>\n",
       "      <td>29/07/2017</td>\n",
       "      <td>4.6</td>\n",
       "      <td>3181.0</td>\n",
       "      <td>...</td>\n",
       "      <td>1.0</td>\n",
       "      <td>1.0</td>\n",
       "      <td>0.0</td>\n",
       "      <td>61.60</td>\n",
       "      <td>2012.0</td>\n",
       "      <td>Stonnington</td>\n",
       "      <td>-37.85581</td>\n",
       "      <td>144.99025</td>\n",
       "      <td>Southern Metropolitan</td>\n",
       "      <td>4380.0</td>\n",
       "    </tr>\n",
       "    <tr>\n",
       "      <th>12212</th>\n",
       "      <td>Yarraville</td>\n",
       "      <td>54 Pentland Pde</td>\n",
       "      <td>6</td>\n",
       "      <td>h</td>\n",
       "      <td>2450000.0</td>\n",
       "      <td>VB</td>\n",
       "      <td>Village</td>\n",
       "      <td>29/07/2017</td>\n",
       "      <td>6.3</td>\n",
       "      <td>3013.0</td>\n",
       "      <td>...</td>\n",
       "      <td>3.0</td>\n",
       "      <td>2.0</td>\n",
       "      <td>1087.0</td>\n",
       "      <td>388.50</td>\n",
       "      <td>1920.0</td>\n",
       "      <td>Maribyrnong</td>\n",
       "      <td>-37.81038</td>\n",
       "      <td>144.89389</td>\n",
       "      <td>Western Metropolitan</td>\n",
       "      <td>6543.0</td>\n",
       "    </tr>\n",
       "  </tbody>\n",
       "</table>\n",
       "<p>6196 rows × 21 columns</p>\n",
       "</div>"
      ],
      "text/plain": [
       "             Suburb          Address  Rooms Type      Price Method  \\\n",
       "1        Abbotsford  25 Bloomburg St      2    h  1035000.0      S   \n",
       "2        Abbotsford     5 Charles St      3    h  1465000.0     SP   \n",
       "4        Abbotsford      55a Park St      4    h  1600000.0     VB   \n",
       "6        Abbotsford     124 Yarra St      3    h  1876000.0      S   \n",
       "7        Abbotsford    98 Charles St      2    h  1636000.0      S   \n",
       "...             ...              ...    ...  ...        ...    ...   \n",
       "12205    Whittlesea    30 Sherwin St      3    h   601000.0      S   \n",
       "12206  Williamstown      75 Cecil St      3    h  1050000.0     VB   \n",
       "12207  Williamstown    2/29 Dover Rd      1    u   385000.0     SP   \n",
       "12209       Windsor  201/152 Peel St      2    u   560000.0     PI   \n",
       "12212    Yarraville  54 Pentland Pde      6    h  2450000.0     VB   \n",
       "\n",
       "             SellerG        Date  Distance  Postcode  ...  Bathroom  Car  \\\n",
       "1             Biggin   4/02/2016       2.5    3067.0  ...       1.0  0.0   \n",
       "2             Biggin   4/03/2017       2.5    3067.0  ...       2.0  0.0   \n",
       "4             Nelson   4/06/2016       2.5    3067.0  ...       1.0  2.0   \n",
       "6             Nelson   7/05/2016       2.5    3067.0  ...       2.0  0.0   \n",
       "7             Nelson   8/10/2016       2.5    3067.0  ...       1.0  2.0   \n",
       "...              ...         ...       ...       ...  ...       ...  ...   \n",
       "12205            Ray  29/07/2017      35.5    3757.0  ...       2.0  1.0   \n",
       "12206       Williams  29/07/2017       6.8    3016.0  ...       1.0  0.0   \n",
       "12207       Williams  29/07/2017       6.8    3016.0  ...       1.0  1.0   \n",
       "12209  hockingstuart  29/07/2017       4.6    3181.0  ...       1.0  1.0   \n",
       "12212        Village  29/07/2017       6.3    3013.0  ...       3.0  2.0   \n",
       "\n",
       "       Landsize  BuildingArea  YearBuilt  CouncilArea Lattitude  Longtitude  \\\n",
       "1         156.0         79.00     1900.0        Yarra -37.80790   144.99340   \n",
       "2         134.0        150.00     1900.0        Yarra -37.80930   144.99440   \n",
       "4         120.0        142.00     2014.0        Yarra -37.80720   144.99410   \n",
       "6         245.0        210.00     1910.0        Yarra -37.80240   144.99930   \n",
       "7         256.0        107.00     1890.0        Yarra -37.80600   144.99540   \n",
       "...         ...           ...        ...          ...       ...         ...   \n",
       "12205     972.0        149.00     1996.0   Whittlesea -37.51232   145.13282   \n",
       "12206     179.0        115.00     1890.0  Hobsons Bay -37.86558   144.90474   \n",
       "12207       0.0         35.64     1967.0  Hobsons Bay -37.85588   144.89936   \n",
       "12209       0.0         61.60     2012.0  Stonnington -37.85581   144.99025   \n",
       "12212    1087.0        388.50     1920.0  Maribyrnong -37.81038   144.89389   \n",
       "\n",
       "                  Regionname Propertycount  \n",
       "1      Northern Metropolitan        4019.0  \n",
       "2      Northern Metropolitan        4019.0  \n",
       "4      Northern Metropolitan        4019.0  \n",
       "6      Northern Metropolitan        4019.0  \n",
       "7      Northern Metropolitan        4019.0  \n",
       "...                      ...           ...  \n",
       "12205      Northern Victoria        2170.0  \n",
       "12206   Western Metropolitan        6380.0  \n",
       "12207   Western Metropolitan        6380.0  \n",
       "12209  Southern Metropolitan        4380.0  \n",
       "12212   Western Metropolitan        6543.0  \n",
       "\n",
       "[6196 rows x 21 columns]"
      ]
     },
     "execution_count": 7,
     "metadata": {},
     "output_type": "execute_result"
    }
   ],
   "source": [
    "# drop rows with missing values (axis=0) for now for simplicity\n",
    "melbourne_data.dropna(axis=0)"
   ]
  },
  {
   "cell_type": "code",
   "execution_count": 8,
   "id": "e3c1f723",
   "metadata": {
    "execution": {
     "iopub.execute_input": "2023-07-05T20:57:54.906240Z",
     "iopub.status.busy": "2023-07-05T20:57:54.905849Z",
     "iopub.status.idle": "2023-07-05T20:57:54.912525Z",
     "shell.execute_reply": "2023-07-05T20:57:54.910985Z"
    },
    "papermill": {
     "duration": 0.018428,
     "end_time": "2023-07-05T20:57:54.915306",
     "exception": false,
     "start_time": "2023-07-05T20:57:54.896878",
     "status": "completed"
    },
    "tags": []
   },
   "outputs": [
    {
     "name": "stdout",
     "output_type": "stream",
     "text": [
      "Index(['Suburb', 'Address', 'Rooms', 'Type', 'Price', 'Method', 'SellerG',\n",
      "       'Date', 'Distance', 'Postcode', 'Bedroom2', 'Bathroom', 'Car',\n",
      "       'Landsize', 'BuildingArea', 'YearBuilt', 'CouncilArea', 'Lattitude',\n",
      "       'Longtitude', 'Regionname', 'Propertycount'],\n",
      "      dtype='object')\n"
     ]
    }
   ],
   "source": [
    "# print the list of columns in the dataset to find th|e name of the prediction target\n",
    "print(melbourne_data.columns)"
   ]
  },
  {
   "cell_type": "markdown",
   "id": "da0e7131",
   "metadata": {
    "papermill": {
     "duration": 0.007271,
     "end_time": "2023-07-05T20:57:54.930629",
     "exception": false,
     "start_time": "2023-07-05T20:57:54.923358",
     "status": "completed"
    },
    "tags": []
   },
   "source": [
    "### 1. Set 'prediciton target' and 'features' "
   ]
  },
  {
   "cell_type": "code",
   "execution_count": 9,
   "id": "2a043f7e",
   "metadata": {
    "execution": {
     "iopub.execute_input": "2023-07-05T20:57:54.949184Z",
     "iopub.status.busy": "2023-07-05T20:57:54.948790Z",
     "iopub.status.idle": "2023-07-05T20:57:54.957937Z",
     "shell.execute_reply": "2023-07-05T20:57:54.956907Z"
    },
    "papermill": {
     "duration": 0.02258,
     "end_time": "2023-07-05T20:57:54.960834",
     "exception": false,
     "start_time": "2023-07-05T20:57:54.938254",
     "status": "completed"
    },
    "tags": []
   },
   "outputs": [],
   "source": [
    "# not using subsetting the dataset using pandas here\n",
    "# select 'prediction_target' and 'features' using dot notation and list \n",
    "\n",
    "# set the column that we want our model to use as predict target\n",
    "# here, we use Price column as our prediction target in this project, by convention, always assign it to 'y'\n",
    "y = melbourne_data.Price  \n",
    "\n",
    "# build a list of features using a few selected columns that could be associated with Price, here 5 columns selected for a start\n",
    "melbourne_features = ['Rooms', 'Bathroom', 'Landsize', 'Lattitude', 'Longtitude']  \n",
    "# By convenstion, always assign it to X\n",
    "X = melbourne_data[melbourne_features]"
   ]
  },
  {
   "cell_type": "code",
   "execution_count": 10,
   "id": "cf129eb3",
   "metadata": {
    "execution": {
     "iopub.execute_input": "2023-07-05T20:57:54.978940Z",
     "iopub.status.busy": "2023-07-05T20:57:54.978574Z",
     "iopub.status.idle": "2023-07-05T20:57:54.991440Z",
     "shell.execute_reply": "2023-07-05T20:57:54.989600Z"
    },
    "papermill": {
     "duration": 0.024977,
     "end_time": "2023-07-05T20:57:54.994411",
     "exception": false,
     "start_time": "2023-07-05T20:57:54.969434",
     "status": "completed"
    },
    "tags": []
   },
   "outputs": [
    {
     "name": "stdout",
     "output_type": "stream",
     "text": [
      "0        1480000.0\n",
      "1        1035000.0\n",
      "2        1465000.0\n",
      "3         850000.0\n",
      "4        1600000.0\n",
      "           ...    \n",
      "13575    1245000.0\n",
      "13576    1031000.0\n",
      "13577    1170000.0\n",
      "13578    2500000.0\n",
      "13579    1285000.0\n",
      "Name: Price, Length: 13580, dtype: float64\n",
      "<class 'pandas.core.series.Series'>\n",
      "       Rooms  Bathroom  Landsize  Lattitude  Longtitude\n",
      "0          2       1.0     202.0  -37.79960   144.99840\n",
      "1          2       1.0     156.0  -37.80790   144.99340\n",
      "2          3       2.0     134.0  -37.80930   144.99440\n",
      "3          3       2.0      94.0  -37.79690   144.99690\n",
      "4          4       1.0     120.0  -37.80720   144.99410\n",
      "...      ...       ...       ...        ...         ...\n",
      "13575      4       2.0     652.0  -37.90562   145.16761\n",
      "13576      3       2.0     333.0  -37.85927   144.87904\n",
      "13577      3       2.0     436.0  -37.85274   144.88738\n",
      "13578      4       1.0     866.0  -37.85908   144.89299\n",
      "13579      4       1.0     362.0  -37.81188   144.88449\n",
      "\n",
      "[13580 rows x 5 columns]\n"
     ]
    }
   ],
   "source": [
    "print(y)\n",
    "print(type(y))\n",
    "print(X)"
   ]
  },
  {
   "cell_type": "markdown",
   "id": "5d0bf9d6",
   "metadata": {
    "papermill": {
     "duration": 0.011383,
     "end_time": "2023-07-05T20:57:55.016594",
     "exception": false,
     "start_time": "2023-07-05T20:57:55.005211",
     "status": "completed"
    },
    "tags": []
   },
   "source": [
    "### 2. Review the data frame with selected features "
   ]
  },
  {
   "cell_type": "code",
   "execution_count": 11,
   "id": "6f0ecd4f",
   "metadata": {
    "execution": {
     "iopub.execute_input": "2023-07-05T20:57:55.039455Z",
     "iopub.status.busy": "2023-07-05T20:57:55.038971Z",
     "iopub.status.idle": "2023-07-05T20:57:55.070482Z",
     "shell.execute_reply": "2023-07-05T20:57:55.067975Z"
    },
    "papermill": {
     "duration": 0.046566,
     "end_time": "2023-07-05T20:57:55.073881",
     "exception": false,
     "start_time": "2023-07-05T20:57:55.027315",
     "status": "completed"
    },
    "tags": []
   },
   "outputs": [
    {
     "data": {
      "text/html": [
       "<div>\n",
       "<style scoped>\n",
       "    .dataframe tbody tr th:only-of-type {\n",
       "        vertical-align: middle;\n",
       "    }\n",
       "\n",
       "    .dataframe tbody tr th {\n",
       "        vertical-align: top;\n",
       "    }\n",
       "\n",
       "    .dataframe thead th {\n",
       "        text-align: right;\n",
       "    }\n",
       "</style>\n",
       "<table border=\"1\" class=\"dataframe\">\n",
       "  <thead>\n",
       "    <tr style=\"text-align: right;\">\n",
       "      <th></th>\n",
       "      <th>Rooms</th>\n",
       "      <th>Bathroom</th>\n",
       "      <th>Landsize</th>\n",
       "      <th>Lattitude</th>\n",
       "      <th>Longtitude</th>\n",
       "    </tr>\n",
       "  </thead>\n",
       "  <tbody>\n",
       "    <tr>\n",
       "      <th>count</th>\n",
       "      <td>13580.000000</td>\n",
       "      <td>13580.000000</td>\n",
       "      <td>13580.000000</td>\n",
       "      <td>13580.000000</td>\n",
       "      <td>13580.000000</td>\n",
       "    </tr>\n",
       "    <tr>\n",
       "      <th>mean</th>\n",
       "      <td>2.937997</td>\n",
       "      <td>1.534242</td>\n",
       "      <td>558.416127</td>\n",
       "      <td>-37.809203</td>\n",
       "      <td>144.995216</td>\n",
       "    </tr>\n",
       "    <tr>\n",
       "      <th>std</th>\n",
       "      <td>0.955748</td>\n",
       "      <td>0.691712</td>\n",
       "      <td>3990.669241</td>\n",
       "      <td>0.079260</td>\n",
       "      <td>0.103916</td>\n",
       "    </tr>\n",
       "    <tr>\n",
       "      <th>min</th>\n",
       "      <td>1.000000</td>\n",
       "      <td>0.000000</td>\n",
       "      <td>0.000000</td>\n",
       "      <td>-38.182550</td>\n",
       "      <td>144.431810</td>\n",
       "    </tr>\n",
       "    <tr>\n",
       "      <th>25%</th>\n",
       "      <td>2.000000</td>\n",
       "      <td>1.000000</td>\n",
       "      <td>177.000000</td>\n",
       "      <td>-37.856822</td>\n",
       "      <td>144.929600</td>\n",
       "    </tr>\n",
       "    <tr>\n",
       "      <th>50%</th>\n",
       "      <td>3.000000</td>\n",
       "      <td>1.000000</td>\n",
       "      <td>440.000000</td>\n",
       "      <td>-37.802355</td>\n",
       "      <td>145.000100</td>\n",
       "    </tr>\n",
       "    <tr>\n",
       "      <th>75%</th>\n",
       "      <td>3.000000</td>\n",
       "      <td>2.000000</td>\n",
       "      <td>651.000000</td>\n",
       "      <td>-37.756400</td>\n",
       "      <td>145.058305</td>\n",
       "    </tr>\n",
       "    <tr>\n",
       "      <th>max</th>\n",
       "      <td>10.000000</td>\n",
       "      <td>8.000000</td>\n",
       "      <td>433014.000000</td>\n",
       "      <td>-37.408530</td>\n",
       "      <td>145.526350</td>\n",
       "    </tr>\n",
       "  </tbody>\n",
       "</table>\n",
       "</div>"
      ],
      "text/plain": [
       "              Rooms      Bathroom       Landsize     Lattitude    Longtitude\n",
       "count  13580.000000  13580.000000   13580.000000  13580.000000  13580.000000\n",
       "mean       2.937997      1.534242     558.416127    -37.809203    144.995216\n",
       "std        0.955748      0.691712    3990.669241      0.079260      0.103916\n",
       "min        1.000000      0.000000       0.000000    -38.182550    144.431810\n",
       "25%        2.000000      1.000000     177.000000    -37.856822    144.929600\n",
       "50%        3.000000      1.000000     440.000000    -37.802355    145.000100\n",
       "75%        3.000000      2.000000     651.000000    -37.756400    145.058305\n",
       "max       10.000000      8.000000  433014.000000    -37.408530    145.526350"
      ]
     },
     "execution_count": 11,
     "metadata": {},
     "output_type": "execute_result"
    }
   ],
   "source": [
    "X.describe()"
   ]
  },
  {
   "cell_type": "code",
   "execution_count": 12,
   "id": "25dc99d5",
   "metadata": {
    "execution": {
     "iopub.execute_input": "2023-07-05T20:57:55.093826Z",
     "iopub.status.busy": "2023-07-05T20:57:55.093404Z",
     "iopub.status.idle": "2023-07-05T20:57:55.109586Z",
     "shell.execute_reply": "2023-07-05T20:57:55.104973Z"
    },
    "papermill": {
     "duration": 0.028926,
     "end_time": "2023-07-05T20:57:55.112605",
     "exception": false,
     "start_time": "2023-07-05T20:57:55.083679",
     "status": "completed"
    },
    "tags": []
   },
   "outputs": [
    {
     "data": {
      "text/html": [
       "<div>\n",
       "<style scoped>\n",
       "    .dataframe tbody tr th:only-of-type {\n",
       "        vertical-align: middle;\n",
       "    }\n",
       "\n",
       "    .dataframe tbody tr th {\n",
       "        vertical-align: top;\n",
       "    }\n",
       "\n",
       "    .dataframe thead th {\n",
       "        text-align: right;\n",
       "    }\n",
       "</style>\n",
       "<table border=\"1\" class=\"dataframe\">\n",
       "  <thead>\n",
       "    <tr style=\"text-align: right;\">\n",
       "      <th></th>\n",
       "      <th>Rooms</th>\n",
       "      <th>Bathroom</th>\n",
       "      <th>Landsize</th>\n",
       "      <th>Lattitude</th>\n",
       "      <th>Longtitude</th>\n",
       "    </tr>\n",
       "  </thead>\n",
       "  <tbody>\n",
       "    <tr>\n",
       "      <th>0</th>\n",
       "      <td>2</td>\n",
       "      <td>1.0</td>\n",
       "      <td>202.0</td>\n",
       "      <td>-37.7996</td>\n",
       "      <td>144.9984</td>\n",
       "    </tr>\n",
       "    <tr>\n",
       "      <th>1</th>\n",
       "      <td>2</td>\n",
       "      <td>1.0</td>\n",
       "      <td>156.0</td>\n",
       "      <td>-37.8079</td>\n",
       "      <td>144.9934</td>\n",
       "    </tr>\n",
       "    <tr>\n",
       "      <th>2</th>\n",
       "      <td>3</td>\n",
       "      <td>2.0</td>\n",
       "      <td>134.0</td>\n",
       "      <td>-37.8093</td>\n",
       "      <td>144.9944</td>\n",
       "    </tr>\n",
       "    <tr>\n",
       "      <th>3</th>\n",
       "      <td>3</td>\n",
       "      <td>2.0</td>\n",
       "      <td>94.0</td>\n",
       "      <td>-37.7969</td>\n",
       "      <td>144.9969</td>\n",
       "    </tr>\n",
       "    <tr>\n",
       "      <th>4</th>\n",
       "      <td>4</td>\n",
       "      <td>1.0</td>\n",
       "      <td>120.0</td>\n",
       "      <td>-37.8072</td>\n",
       "      <td>144.9941</td>\n",
       "    </tr>\n",
       "  </tbody>\n",
       "</table>\n",
       "</div>"
      ],
      "text/plain": [
       "   Rooms  Bathroom  Landsize  Lattitude  Longtitude\n",
       "0      2       1.0     202.0   -37.7996    144.9984\n",
       "1      2       1.0     156.0   -37.8079    144.9934\n",
       "2      3       2.0     134.0   -37.8093    144.9944\n",
       "3      3       2.0      94.0   -37.7969    144.9969\n",
       "4      4       1.0     120.0   -37.8072    144.9941"
      ]
     },
     "execution_count": 12,
     "metadata": {},
     "output_type": "execute_result"
    }
   ],
   "source": [
    "# Visually checking your data with these commands is an important part of a data scientist's job. \n",
    "# You'll frequently find surprises in the dataset that deserve further inspection.\n",
    "X.head()"
   ]
  },
  {
   "cell_type": "markdown",
   "id": "8bc44d0a",
   "metadata": {
    "papermill": {
     "duration": 0.009502,
     "end_time": "2023-07-05T20:57:55.134032",
     "exception": false,
     "start_time": "2023-07-05T20:57:55.124530",
     "status": "completed"
    },
    "tags": []
   },
   "source": [
    "### Building your model using sklearn (scikit-learn)\n",
    "Most popular library for modeling the types of data typically stored in DataFrames.\n",
    "steps:\n",
    "* **Define** - What type of model will it be? A decision tree? Some other type of model? Some other parameters of the model type are specified too\n",
    "* **Fit** - Capture patterns from provided data. This is the heart of modeling.\n",
    "* **Predict** - Just what it sounds like\n",
    "* **Evaluate** - Determine how accurate the model's predictions are."
   ]
  },
  {
   "cell_type": "code",
   "execution_count": 13,
   "id": "c5cb4978",
   "metadata": {
    "execution": {
     "iopub.execute_input": "2023-07-05T20:57:55.157034Z",
     "iopub.status.busy": "2023-07-05T20:57:55.156665Z",
     "iopub.status.idle": "2023-07-05T20:57:56.999278Z",
     "shell.execute_reply": "2023-07-05T20:57:56.998210Z"
    },
    "papermill": {
     "duration": 1.856031,
     "end_time": "2023-07-05T20:57:57.001866",
     "exception": false,
     "start_time": "2023-07-05T20:57:55.145835",
     "status": "completed"
    },
    "tags": []
   },
   "outputs": [
    {
     "data": {
      "text/html": [
       "<style>#sk-container-id-1 {color: black;background-color: white;}#sk-container-id-1 pre{padding: 0;}#sk-container-id-1 div.sk-toggleable {background-color: white;}#sk-container-id-1 label.sk-toggleable__label {cursor: pointer;display: block;width: 100%;margin-bottom: 0;padding: 0.3em;box-sizing: border-box;text-align: center;}#sk-container-id-1 label.sk-toggleable__label-arrow:before {content: \"▸\";float: left;margin-right: 0.25em;color: #696969;}#sk-container-id-1 label.sk-toggleable__label-arrow:hover:before {color: black;}#sk-container-id-1 div.sk-estimator:hover label.sk-toggleable__label-arrow:before {color: black;}#sk-container-id-1 div.sk-toggleable__content {max-height: 0;max-width: 0;overflow: hidden;text-align: left;background-color: #f0f8ff;}#sk-container-id-1 div.sk-toggleable__content pre {margin: 0.2em;color: black;border-radius: 0.25em;background-color: #f0f8ff;}#sk-container-id-1 input.sk-toggleable__control:checked~div.sk-toggleable__content {max-height: 200px;max-width: 100%;overflow: auto;}#sk-container-id-1 input.sk-toggleable__control:checked~label.sk-toggleable__label-arrow:before {content: \"▾\";}#sk-container-id-1 div.sk-estimator input.sk-toggleable__control:checked~label.sk-toggleable__label {background-color: #d4ebff;}#sk-container-id-1 div.sk-label input.sk-toggleable__control:checked~label.sk-toggleable__label {background-color: #d4ebff;}#sk-container-id-1 input.sk-hidden--visually {border: 0;clip: rect(1px 1px 1px 1px);clip: rect(1px, 1px, 1px, 1px);height: 1px;margin: -1px;overflow: hidden;padding: 0;position: absolute;width: 1px;}#sk-container-id-1 div.sk-estimator {font-family: monospace;background-color: #f0f8ff;border: 1px dotted black;border-radius: 0.25em;box-sizing: border-box;margin-bottom: 0.5em;}#sk-container-id-1 div.sk-estimator:hover {background-color: #d4ebff;}#sk-container-id-1 div.sk-parallel-item::after {content: \"\";width: 100%;border-bottom: 1px solid gray;flex-grow: 1;}#sk-container-id-1 div.sk-label:hover label.sk-toggleable__label {background-color: #d4ebff;}#sk-container-id-1 div.sk-serial::before {content: \"\";position: absolute;border-left: 1px solid gray;box-sizing: border-box;top: 0;bottom: 0;left: 50%;z-index: 0;}#sk-container-id-1 div.sk-serial {display: flex;flex-direction: column;align-items: center;background-color: white;padding-right: 0.2em;padding-left: 0.2em;position: relative;}#sk-container-id-1 div.sk-item {position: relative;z-index: 1;}#sk-container-id-1 div.sk-parallel {display: flex;align-items: stretch;justify-content: center;background-color: white;position: relative;}#sk-container-id-1 div.sk-item::before, #sk-container-id-1 div.sk-parallel-item::before {content: \"\";position: absolute;border-left: 1px solid gray;box-sizing: border-box;top: 0;bottom: 0;left: 50%;z-index: -1;}#sk-container-id-1 div.sk-parallel-item {display: flex;flex-direction: column;z-index: 1;position: relative;background-color: white;}#sk-container-id-1 div.sk-parallel-item:first-child::after {align-self: flex-end;width: 50%;}#sk-container-id-1 div.sk-parallel-item:last-child::after {align-self: flex-start;width: 50%;}#sk-container-id-1 div.sk-parallel-item:only-child::after {width: 0;}#sk-container-id-1 div.sk-dashed-wrapped {border: 1px dashed gray;margin: 0 0.4em 0.5em 0.4em;box-sizing: border-box;padding-bottom: 0.4em;background-color: white;}#sk-container-id-1 div.sk-label label {font-family: monospace;font-weight: bold;display: inline-block;line-height: 1.2em;}#sk-container-id-1 div.sk-label-container {text-align: center;}#sk-container-id-1 div.sk-container {/* jupyter's `normalize.less` sets `[hidden] { display: none; }` but bootstrap.min.css set `[hidden] { display: none !important; }` so we also need the `!important` here to be able to override the default hidden behavior on the sphinx rendered scikit-learn.org. See: https://github.com/scikit-learn/scikit-learn/issues/21755 */display: inline-block !important;position: relative;}#sk-container-id-1 div.sk-text-repr-fallback {display: none;}</style><div id=\"sk-container-id-1\" class=\"sk-top-container\"><div class=\"sk-text-repr-fallback\"><pre>DecisionTreeRegressor(random_state=1)</pre><b>In a Jupyter environment, please rerun this cell to show the HTML representation or trust the notebook. <br />On GitHub, the HTML representation is unable to render, please try loading this page with nbviewer.org.</b></div><div class=\"sk-container\" hidden><div class=\"sk-item\"><div class=\"sk-estimator sk-toggleable\"><input class=\"sk-toggleable__control sk-hidden--visually\" id=\"sk-estimator-id-1\" type=\"checkbox\" checked><label for=\"sk-estimator-id-1\" class=\"sk-toggleable__label sk-toggleable__label-arrow\">DecisionTreeRegressor</label><div class=\"sk-toggleable__content\"><pre>DecisionTreeRegressor(random_state=1)</pre></div></div></div></div></div>"
      ],
      "text/plain": [
       "DecisionTreeRegressor(random_state=1)"
      ]
     },
     "execution_count": 13,
     "metadata": {},
     "output_type": "execute_result"
    }
   ],
   "source": [
    "# Define - here, using Decision Tree from sklearn\n",
    "from sklearn.tree import DecisionTreeRegressor\n",
    "\n",
    "# Define model. Specify a number for random_state to ensure same results each run\n",
    "# Many machine learning models allow some randomness in model training. \n",
    "# Specifying a number for random_state ensures you get the same results in each run. \n",
    "# This is considered a good practice. \n",
    "# You use any number, and model quality won't depend meaningfully on exactly what value you choose.\n",
    "melbourne_model = DecisionTreeRegressor(random_state=1)\n",
    "\n",
    "# Fit model\n",
    "melbourne_model.fit(X, y)"
   ]
  },
  {
   "cell_type": "code",
   "execution_count": 14,
   "id": "406a31f3",
   "metadata": {
    "execution": {
     "iopub.execute_input": "2023-07-05T20:57:57.023042Z",
     "iopub.status.busy": "2023-07-05T20:57:57.022697Z",
     "iopub.status.idle": "2023-07-05T20:57:57.034821Z",
     "shell.execute_reply": "2023-07-05T20:57:57.033283Z"
    },
    "papermill": {
     "duration": 0.025626,
     "end_time": "2023-07-05T20:57:57.037327",
     "exception": false,
     "start_time": "2023-07-05T20:57:57.011701",
     "status": "completed"
    },
    "tags": []
   },
   "outputs": [
    {
     "name": "stdout",
     "output_type": "stream",
     "text": [
      "Making prediction for the following 5 houses:\n",
      "   Rooms  Bathroom  Landsize  Lattitude  Longtitude\n",
      "0      2       1.0     202.0   -37.7996    144.9984\n",
      "1      2       1.0     156.0   -37.8079    144.9934\n",
      "2      3       2.0     134.0   -37.8093    144.9944\n",
      "3      3       2.0      94.0   -37.7969    144.9969\n",
      "4      4       1.0     120.0   -37.8072    144.9941\n",
      "The predictions are...\n",
      "[1480000. 1035000. 1465000.  850000. 1600000.]\n"
     ]
    }
   ],
   "source": [
    "# the model is fitted, now predict!\n",
    "# Just checking the predict functions, will use the first few row of training data.\n",
    "# In practice, should use the houses without price \n",
    "print(\"Making prediction for the following 5 houses:\")\n",
    "print(X.head())\n",
    "print(\"The predictions are...\")\n",
    "predictions = melbourne_model.predict(X.head())\n",
    "print(predictions)"
   ]
  },
  {
   "cell_type": "code",
   "execution_count": 15,
   "id": "b9d4069c",
   "metadata": {
    "execution": {
     "iopub.execute_input": "2023-07-05T20:57:57.057357Z",
     "iopub.status.busy": "2023-07-05T20:57:57.056934Z",
     "iopub.status.idle": "2023-07-05T20:57:57.064511Z",
     "shell.execute_reply": "2023-07-05T20:57:57.062515Z"
    },
    "papermill": {
     "duration": 0.020742,
     "end_time": "2023-07-05T20:57:57.066901",
     "exception": false,
     "start_time": "2023-07-05T20:57:57.046159",
     "status": "completed"
    },
    "tags": []
   },
   "outputs": [
    {
     "name": "stdout",
     "output_type": "stream",
     "text": [
      "0    1480000.0\n",
      "1    1035000.0\n",
      "2    1465000.0\n",
      "3     850000.0\n",
      "4    1600000.0\n",
      "Name: Price, dtype: float64\n",
      "[1480000. 1035000. 1465000.  850000. 1600000.]\n"
     ]
    }
   ],
   "source": [
    "# For a quick evaluation, compare the predicted result and actual values for the first 5 \n",
    "print(y.head())  # actual \n",
    "print(predictions[0:5])\n",
    "\n",
    "# They should be the same, because the model used the same data for training and predictions"
   ]
  },
  {
   "cell_type": "markdown",
   "id": "b0af50e2",
   "metadata": {
    "papermill": {
     "duration": 0.008171,
     "end_time": "2023-07-05T20:57:57.083886",
     "exception": false,
     "start_time": "2023-07-05T20:57:57.075715",
     "status": "completed"
    },
    "tags": []
   },
   "source": [
    "### Model Validation\n",
    "* The process of measuring the quality of your model. \n",
    "* Measuring model quality is the **KEY** to **iteratively improving** your models."
   ]
  },
  {
   "cell_type": "code",
   "execution_count": 16,
   "id": "1749a058",
   "metadata": {
    "execution": {
     "iopub.execute_input": "2023-07-05T20:57:57.102346Z",
     "iopub.status.busy": "2023-07-05T20:57:57.101940Z",
     "iopub.status.idle": "2023-07-05T20:57:57.106686Z",
     "shell.execute_reply": "2023-07-05T20:57:57.106012Z"
    },
    "papermill": {
     "duration": 0.016075,
     "end_time": "2023-07-05T20:57:57.108388",
     "exception": false,
     "start_time": "2023-07-05T20:57:57.092313",
     "status": "completed"
    },
    "tags": []
   },
   "outputs": [],
   "source": [
    "# In most cases, you measure the qualaity of Predictive Accuracy, meaning\n",
    "# \"Will your model's predictions be close to what actually happens?\"\n",
    "# here, using MAE(Mean Absolute Error) metric to measure\n",
    "# error = actual - predicted\n",
    "# The MAE resuls reads \"On average, the predictions are off by about X.\"\n",
    "# To calculate MAE, first you need a model."
   ]
  },
  {
   "cell_type": "code",
   "execution_count": 17,
   "id": "d2faff85",
   "metadata": {
    "execution": {
     "iopub.execute_input": "2023-07-05T20:57:57.126252Z",
     "iopub.status.busy": "2023-07-05T20:57:57.125935Z",
     "iopub.status.idle": "2023-07-05T20:57:57.229333Z",
     "shell.execute_reply": "2023-07-05T20:57:57.228189Z"
    },
    "papermill": {
     "duration": 0.115148,
     "end_time": "2023-07-05T20:57:57.231931",
     "exception": false,
     "start_time": "2023-07-05T20:57:57.116783",
     "status": "completed"
    },
    "tags": []
   },
   "outputs": [
    {
     "data": {
      "text/plain": [
       "434.71594577146544"
      ]
     },
     "execution_count": 17,
     "metadata": {},
     "output_type": "execute_result"
    }
   ],
   "source": [
    "# Recap and repeat: Build a model to measrue using MAE\n",
    "\n",
    "import pandas as pd\n",
    "\n",
    "# load data\n",
    "melbourne_file_path = '/kaggle/input/mlebourne-20162017/melb_data.csv'\n",
    "melbourne_data = pd.read_csv(melbourne_file_path)\n",
    "\n",
    "# review data\n",
    "#print(melbourne_data.describe())\n",
    "#print(melbourne_data.head())\n",
    "#print(melbourne_data.columns)\n",
    "\n",
    "# filter rows with missing price values\n",
    "filtered_melbourne_data = melbourne_data.dropna(axis=0)\n",
    "\n",
    "# Choose your taget column and build features\n",
    "y = filtered_melbourne_data.Price\n",
    "melbourne_features = ['Rooms', 'Bathroom', 'Landsize', 'BuildingArea', \n",
    "                        'YearBuilt', 'Lattitude', 'Longtitude']\n",
    "X = filtered_melbourne_data[melbourne_features]\n",
    "\n",
    "#print(y)\n",
    "#print(X)\n",
    "\n",
    "\n",
    "from sklearn.tree import DecisionTreeRegressor\n",
    "\n",
    "# Define model\n",
    "melbourne_model = DecisionTreeRegressor()\n",
    "\n",
    "# Fit model \n",
    "melbourne_model.fit(X, y)\n",
    "\n",
    "# Model is ready and trained, calculate MAE\n",
    "from sklearn.metrics import mean_absolute_error\n",
    "\n",
    "predicted_home_prices = melbourne_model.predict(X) # predict for the dataset with selected features\n",
    "mean_absolute_error(y, predicted_home_prices)  # Validation using MAE, actual vs. predicted\n"
   ]
  },
  {
   "cell_type": "markdown",
   "id": "e2319406",
   "metadata": {
    "papermill": {
     "duration": 0.008592,
     "end_time": "2023-07-05T20:57:57.249663",
     "exception": false,
     "start_time": "2023-07-05T20:57:57.241071",
     "status": "completed"
    },
    "tags": []
   },
   "source": [
    "### The problem with \"In-Sample\" score\n",
    "\n",
    "The measure we just computed can be called an \"**in-sample**\" score. We used a single \"sample\" of houses for both building the model and evaluating it. Here's why this is **bad**.\n",
    "\n",
    "Imagine that, in the large real estate market, door color is unrelated to home price.\n",
    "\n",
    "However, in the sample of data you used to build the model, all homes with green doors were very expensive. The model's job is to find patterns that predict home prices, so it will see this pattern, and it will always predict high prices for homes with green doors.\n",
    "\n",
    "**Since this pattern was derived from the training data, the model will appear accurate in the training data.**\n",
    "\n",
    "But if this pattern doesn't hold when the model sees new data, the model would be very inaccurate when used in practice.\n",
    "\n",
    "**Since models' practical value come from making predictions on new data, we measure performance on data that wasn't used to build the model**. The most straightforward way to do this is to **exclude some data from the model-building process**, and then use those to **test the model's accuracy on data it hasn't seen before**. This data is called **validation data**"
   ]
  },
  {
   "cell_type": "code",
   "execution_count": 18,
   "id": "03bc85e7",
   "metadata": {
    "execution": {
     "iopub.execute_input": "2023-07-05T20:57:57.270856Z",
     "iopub.status.busy": "2023-07-05T20:57:57.268509Z",
     "iopub.status.idle": "2023-07-05T20:57:57.323731Z",
     "shell.execute_reply": "2023-07-05T20:57:57.321355Z"
    },
    "papermill": {
     "duration": 0.067791,
     "end_time": "2023-07-05T20:57:57.326141",
     "exception": false,
     "start_time": "2023-07-05T20:57:57.258350",
     "status": "completed"
    },
    "tags": []
   },
   "outputs": [
    {
     "name": "stdout",
     "output_type": "stream",
     "text": [
      "       Rooms  Bathroom  Landsize  BuildingArea  YearBuilt  Lattitude  \\\n",
      "8722       3       1.0     423.0        142.00     1920.0  -37.77917   \n",
      "3418       3       2.0       0.0         96.00     2000.0  -37.76940   \n",
      "9904       4       2.0     494.0        298.21     2014.0  -37.61424   \n",
      "9024       4       3.0     304.0        155.00     1970.0  -37.85430   \n",
      "6946       4       2.0     607.0        338.00     2015.0  -37.71600   \n",
      "...      ...       ...       ...           ...        ...        ...   \n",
      "1656       5       4.0     684.0        427.00     2013.0  -37.83200   \n",
      "10165      2       1.0      54.0         60.00     1970.0  -37.75948   \n",
      "7403       2       1.0       0.0         51.00     2012.0  -37.78470   \n",
      "404        4       2.0     844.0        278.00     1940.0  -37.87150   \n",
      "10093      2       1.0       0.0         38.00     1970.0  -37.80206   \n",
      "\n",
      "       Longtitude  \n",
      "8722    144.82223  \n",
      "3418    145.04060  \n",
      "9904    144.88705  \n",
      "9024    145.25253  \n",
      "6946    144.96630  \n",
      "...           ...  \n",
      "1656    145.08530  \n",
      "10165   144.94758  \n",
      "7403    144.93830  \n",
      "404     145.06880  \n",
      "10093   145.00015  \n",
      "\n",
      "[4647 rows x 7 columns]\n",
      "      Rooms  Bathroom  Landsize  BuildingArea  YearBuilt  Lattitude  \\\n",
      "6048      3       3.0     221.0         155.0     2011.0  -37.77080   \n",
      "9186      4       2.0     528.0         199.0     1980.0  -37.83539   \n",
      "3991      3       2.0       0.0         122.0     1998.0  -37.80950   \n",
      "5829      3       2.0    1039.0         133.0     2006.0  -37.86380   \n",
      "3616      6       6.0    1334.0         365.0     1890.0  -37.80290   \n",
      "...     ...       ...       ...           ...        ...        ...   \n",
      "829       2       1.0       0.0          75.0     1960.0  -37.90820   \n",
      "5926      3       1.0     700.0         145.0     1960.0  -37.79330   \n",
      "20        4       2.0     780.0         135.0     1900.0  -37.80730   \n",
      "3935      3       2.0     151.0           3.0     2010.0  -37.78550   \n",
      "2493      4       2.0     381.0         145.0     1890.0  -37.77350   \n",
      "\n",
      "      Longtitude  \n",
      "6048    144.8401  \n",
      "9186    145.0431  \n",
      "3991    144.9691  \n",
      "5829    144.9820  \n",
      "3616    145.0267  \n",
      "...          ...  \n",
      "829     145.0681  \n",
      "5926    144.8411  \n",
      "20      144.9952  \n",
      "3935    144.8958  \n",
      "2493    145.0192  \n",
      "\n",
      "[1549 rows x 7 columns]\n",
      "8722      570000.0\n",
      "3418      650000.0\n",
      "9904      840500.0\n",
      "9024      860000.0\n",
      "6946     1010000.0\n",
      "           ...    \n",
      "1656     3550000.0\n",
      "10165     460000.0\n",
      "7403      315000.0\n",
      "404      1950000.0\n",
      "10093     505000.0\n",
      "Name: Price, Length: 4647, dtype: float64\n",
      "6048     620000.0\n",
      "9186    2320000.0\n",
      "3991     750000.0\n",
      "5829    1120000.0\n",
      "3616    6500000.0\n",
      "          ...    \n",
      "829      486500.0\n",
      "5926     950000.0\n",
      "20      1330000.0\n",
      "3935     865000.0\n",
      "2493    1160000.0\n",
      "Name: Price, Length: 1549, dtype: float64\n",
      "251876.65138799226\n"
     ]
    }
   ],
   "source": [
    "# use train_test_split from sklearn to separate data for training and validation\n",
    "from sklearn.model_selection import train_test_split\n",
    "\n",
    "# split data into training and validation data, for both features and target\n",
    "# The split is based on a random number generator. Supplying a numeric value to\n",
    "# the random_state argument guarantees we get the same split every time we\n",
    "# run this script.\n",
    "\n",
    "train_X, val_X, train_y, val_y = train_test_split(X, y, random_state=1)\n",
    "\n",
    "print(train_X)\n",
    "print(val_X)\n",
    "print(train_y)\n",
    "print(val_y)\n",
    "\n",
    "# Define model\n",
    "melbourne_model = DecisionTreeRegressor(random_state=1)\n",
    "\n",
    "# Fit model using splitted portion of data for training\n",
    "melbourne_model.fit(train_X, train_y)\n",
    "\n",
    "# Get predicted prices on validation data\n",
    "val_predictions = melbourne_model.predict(val_X)\n",
    "\n",
    "# Check the MAE result on validation data\n",
    "print(mean_absolute_error(val_y, val_predictions))"
   ]
  },
  {
   "cell_type": "markdown",
   "id": "c3890a06",
   "metadata": {
    "papermill": {
     "duration": 0.008511,
     "end_time": "2023-07-05T20:57:57.343462",
     "exception": false,
     "start_time": "2023-07-05T20:57:57.334951",
     "status": "completed"
    },
    "tags": []
   },
   "source": [
    "> Your mean absolute error for the in-sample data was about 500 dollars. Out-of-sample it is more than 250,000 dollars.\n",
    "> This is the difference between a model that is almost exactly right, and one that is unusable for most practical purposes. As a point of reference, the average home value in the validation data is 1.1 million dollars. So the error in new data is about a quarter of the average home value.\n",
    "> There are many ways to improve this model, such as experimenting to find better features or different model types."
   ]
  },
  {
   "cell_type": "markdown",
   "id": "f88312b4",
   "metadata": {
    "papermill": {
     "duration": 0.008616,
     "end_time": "2023-07-05T20:57:57.360602",
     "exception": false,
     "start_time": "2023-07-05T20:57:57.351986",
     "status": "completed"
    },
    "tags": []
   },
   "source": [
    "### Underfitting and Overfitting\n",
    "Apply these ideas to make your model more accurate\n",
    "* **Overfitting** - a model matches the training data almost perfectly, but does poorly in validation and other new data\n",
    "* **Underfitting** - When a model fails to capture important distinctions and patterns in the data, so it performs poorly even in training data, that is called underfitting."
   ]
  },
  {
   "cell_type": "code",
   "execution_count": 19,
   "id": "681c2df8",
   "metadata": {
    "execution": {
     "iopub.execute_input": "2023-07-05T20:57:57.380203Z",
     "iopub.status.busy": "2023-07-05T20:57:57.379846Z",
     "iopub.status.idle": "2023-07-05T20:57:57.385906Z",
     "shell.execute_reply": "2023-07-05T20:57:57.384927Z"
    },
    "papermill": {
     "duration": 0.018746,
     "end_time": "2023-07-05T20:57:57.388384",
     "exception": false,
     "start_time": "2023-07-05T20:57:57.369638",
     "status": "completed"
    },
    "tags": []
   },
   "outputs": [],
   "source": [
    "# Controlling leaves / tree depth using parameter - max_leaf_nodes\n",
    "\n",
    "# utility function to compare MAE using max_leaf_nodes\n",
    "\n",
    "from sklearn.metrics import mean_absolute_error\n",
    "from sklearn.tree import DecisionTreeRegressor\n",
    "\n",
    "def get_mae(max_leaf_nodes, train_X, val_X, train_y, val_y):\n",
    "    model = DecisionTreeRegressor(max_leaf_nodes=max_leaf_nodes, random_state=1)\n",
    "    model.fit(train_X, train_y)\n",
    "    preds_val = model.predict(val_X)\n",
    "    mae = mean_absolute_error(val_y, preds_val)\n",
    "    return(mae)"
   ]
  },
  {
   "cell_type": "code",
   "execution_count": 20,
   "id": "91b3b598",
   "metadata": {
    "execution": {
     "iopub.execute_input": "2023-07-05T20:57:57.407875Z",
     "iopub.status.busy": "2023-07-05T20:57:57.407493Z",
     "iopub.status.idle": "2023-07-05T20:57:57.543891Z",
     "shell.execute_reply": "2023-07-05T20:57:57.542231Z"
    },
    "papermill": {
     "duration": 0.148898,
     "end_time": "2023-07-05T20:57:57.546609",
     "exception": false,
     "start_time": "2023-07-05T20:57:57.397711",
     "status": "completed"
    },
    "tags": []
   },
   "outputs": [
    {
     "name": "stdout",
     "output_type": "stream",
     "text": [
      "Max leaf nodes: 5 \t\t Mean Absolute Error: 324110.91454760684\n",
      "Max leaf nodes: 50 \t\t Mean Absolute Error: 248796.2586659669\n",
      "Max leaf nodes: 500 \t\t Mean Absolute Error: 239296.12571612737\n",
      "Max leaf nodes: 590 \t\t Mean Absolute Error: 237442.73458675118\n",
      "Max leaf nodes: 600 \t\t Mean Absolute Error: 237533.29343871784\n",
      "Max leaf nodes: 5000 \t\t Mean Absolute Error: 251539.96126533247\n"
     ]
    }
   ],
   "source": [
    "# use a for-loop to compare the accuracy of models built with different values for max_leaf_nodes.\n",
    "# test with 4 different max_leaf_nodes values, and compare the mae results\n",
    "for max_leaf_nodes in [5, 50, 500, 590, 600, 5000]:\n",
    "    my_mae = get_mae(max_leaf_nodes, train_X, val_X, train_y, val_y)\n",
    "    print(\"Max leaf nodes: {max_leaf_nodes} \\t\\t Mean Absolute Error: {mae}\".format(max_leaf_nodes=max_leaf_nodes, mae=my_mae))"
   ]
  },
  {
   "cell_type": "markdown",
   "id": "daee8d86",
   "metadata": {
    "papermill": {
     "duration": 0.009727,
     "end_time": "2023-07-05T20:57:57.565759",
     "exception": false,
     "start_time": "2023-07-05T20:57:57.556032",
     "status": "completed"
    },
    "tags": []
   },
   "source": [
    "Of the options listed, 590 is the optimal number of leaves."
   ]
  },
  {
   "cell_type": "markdown",
   "id": "f19a611f",
   "metadata": {
    "papermill": {
     "duration": 0.008826,
     "end_time": "2023-07-05T20:57:57.584027",
     "exception": false,
     "start_time": "2023-07-05T20:57:57.575201",
     "status": "completed"
    },
    "tags": []
   },
   "source": [
    "### Takeaways\n",
    "Here's the takeaway: Models can suffer from either:\n",
    "\n",
    "**Overfitting**: capturing spurious patterns that won't recur in the future, leading to less accurate predictions, or   \n",
    "**Underfitting**: failing to capture relevant patterns, again leading to less accurate predictions.\n",
    "We use validation data, which isn't used in model training, to measure a candidate model's accuracy. This lets us try many candidate models and keep the best one."
   ]
  },
  {
   "cell_type": "markdown",
   "id": "0dd2cf25",
   "metadata": {
    "papermill": {
     "duration": 0.008982,
     "end_time": "2023-07-05T20:57:57.603148",
     "exception": false,
     "start_time": "2023-07-05T20:57:57.594166",
     "status": "completed"
    },
    "tags": []
   },
   "source": [
    "### Recap / Repeat"
   ]
  },
  {
   "cell_type": "code",
   "execution_count": null,
   "id": "b678e515",
   "metadata": {
    "papermill": {
     "duration": 0.009083,
     "end_time": "2023-07-05T20:57:57.621292",
     "exception": false,
     "start_time": "2023-07-05T20:57:57.612209",
     "status": "completed"
    },
    "tags": []
   },
   "outputs": [],
   "source": []
  }
 ],
 "metadata": {
  "kernelspec": {
   "display_name": "Python 3",
   "language": "python",
   "name": "python3"
  },
  "language_info": {
   "codemirror_mode": {
    "name": "ipython",
    "version": 3
   },
   "file_extension": ".py",
   "mimetype": "text/x-python",
   "name": "python",
   "nbconvert_exporter": "python",
   "pygments_lexer": "ipython3",
   "version": "3.10.10"
  },
  "papermill": {
   "default_parameters": {},
   "duration": 13.543541,
   "end_time": "2023-07-05T20:57:58.653540",
   "environment_variables": {},
   "exception": null,
   "input_path": "__notebook__.ipynb",
   "output_path": "__notebook__.ipynb",
   "parameters": {},
   "start_time": "2023-07-05T20:57:45.109999",
   "version": "2.4.0"
  }
 },
 "nbformat": 4,
 "nbformat_minor": 5
}
