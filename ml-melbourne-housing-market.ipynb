{
 "cells": [
  {
   "cell_type": "code",
   "execution_count": 1,
   "id": "b6052d33",
   "metadata": {
    "_cell_guid": "b1076dfc-b9ad-4769-8c92-a6c4dae69d19",
    "_uuid": "8f2839f25d086af736a60e9eeb907d3b93b6e0e5",
    "execution": {
     "iopub.execute_input": "2023-07-06T02:58:28.906671Z",
     "iopub.status.busy": "2023-07-06T02:58:28.905792Z",
     "iopub.status.idle": "2023-07-06T02:58:28.934596Z",
     "shell.execute_reply": "2023-07-06T02:58:28.933487Z"
    },
    "papermill": {
     "duration": 0.04965,
     "end_time": "2023-07-06T02:58:28.937667",
     "exception": false,
     "start_time": "2023-07-06T02:58:28.888017",
     "status": "completed"
    },
    "tags": []
   },
   "outputs": [
    {
     "name": "stdout",
     "output_type": "stream",
     "text": [
      "/kaggle/input/mlebourne-20162017/suburb-10-vic.geojson\n",
      "/kaggle/input/mlebourne-20162017/melb_data.csv\n",
      "/kaggle/input/home-data-for-ml-course/train.csv\n"
     ]
    }
   ],
   "source": [
    "# This Python 3 environment comes with many helpful analytics libraries installed\n",
    "# It is defined by the kaggle/python Docker image: https://github.com/kaggle/docker-python\n",
    "# For example, here's several helpful packages to load\n",
    "\n",
    "import numpy as np # linear algebra\n",
    "import pandas as pd # data processing, CSV file I/O (e.g. pd.read_csv)\n",
    "\n",
    "# Input data files are available in the read-only \"../input/\" directory\n",
    "# For example, running this (by clicking run or pressing Shift+Enter) will list all files under the input directory\n",
    "\n",
    "import os\n",
    "for dirname, _, filenames in os.walk('/kaggle/input'):\n",
    "    for filename in filenames:\n",
    "        print(os.path.join(dirname, filename))\n",
    "\n",
    "# You can write up to 20GB to the current directory (/kaggle/working/) that gets preserved as output when you create a version using \"Save & Run All\" \n",
    "# You can also write temporary files to /kaggle/temp/, but they won't be saved outside of the current session"
   ]
  },
  {
   "cell_type": "markdown",
   "id": "b4b38781",
   "metadata": {
    "papermill": {
     "duration": 0.011874,
     "end_time": "2023-07-06T02:58:28.962123",
     "exception": false,
     "start_time": "2023-07-06T02:58:28.950249",
     "status": "completed"
    },
    "tags": []
   },
   "source": [
    "### Import pandas "
   ]
  },
  {
   "cell_type": "code",
   "execution_count": 2,
   "id": "5783af9e",
   "metadata": {
    "execution": {
     "iopub.execute_input": "2023-07-06T02:58:28.989461Z",
     "iopub.status.busy": "2023-07-06T02:58:28.988986Z",
     "iopub.status.idle": "2023-07-06T02:58:28.994286Z",
     "shell.execute_reply": "2023-07-06T02:58:28.992945Z"
    },
    "papermill": {
     "duration": 0.022155,
     "end_time": "2023-07-06T02:58:28.997113",
     "exception": false,
     "start_time": "2023-07-06T02:58:28.974958",
     "status": "completed"
    },
    "tags": []
   },
   "outputs": [],
   "source": [
    "import pandas as pd"
   ]
  },
  {
   "cell_type": "markdown",
   "id": "c3bcc264",
   "metadata": {
    "papermill": {
     "duration": 0.012516,
     "end_time": "2023-07-06T02:58:29.022329",
     "exception": false,
     "start_time": "2023-07-06T02:58:29.009813",
     "status": "completed"
    },
    "tags": []
   },
   "source": [
    "### Read and save the dataset"
   ]
  },
  {
   "cell_type": "code",
   "execution_count": 3,
   "id": "fdf1d712",
   "metadata": {
    "execution": {
     "iopub.execute_input": "2023-07-06T02:58:29.049948Z",
     "iopub.status.busy": "2023-07-06T02:58:29.048939Z",
     "iopub.status.idle": "2023-07-06T02:58:29.160130Z",
     "shell.execute_reply": "2023-07-06T02:58:29.159231Z"
    },
    "papermill": {
     "duration": 0.128269,
     "end_time": "2023-07-06T02:58:29.163108",
     "exception": false,
     "start_time": "2023-07-06T02:58:29.034839",
     "status": "completed"
    },
    "tags": []
   },
   "outputs": [],
   "source": [
    "# read and save the csv data\n",
    "melbourne_file_path = '/kaggle/input/mlebourne-20162017/melb_data.csv'\n",
    "melbourne_data = pd.read_csv(melbourne_file_path)"
   ]
  },
  {
   "cell_type": "markdown",
   "id": "0927bfe2",
   "metadata": {
    "papermill": {
     "duration": 0.012009,
     "end_time": "2023-07-06T02:58:29.187607",
     "exception": false,
     "start_time": "2023-07-06T02:58:29.175598",
     "status": "completed"
    },
    "tags": []
   },
   "source": [
    "### Quick data inspection and summary"
   ]
  },
  {
   "cell_type": "code",
   "execution_count": 4,
   "id": "1d2cb250",
   "metadata": {
    "execution": {
     "iopub.execute_input": "2023-07-06T02:58:29.214449Z",
     "iopub.status.busy": "2023-07-06T02:58:29.213932Z",
     "iopub.status.idle": "2023-07-06T02:58:29.302052Z",
     "shell.execute_reply": "2023-07-06T02:58:29.300229Z"
    },
    "papermill": {
     "duration": 0.105487,
     "end_time": "2023-07-06T02:58:29.305397",
     "exception": false,
     "start_time": "2023-07-06T02:58:29.199910",
     "status": "completed"
    },
    "tags": []
   },
   "outputs": [
    {
     "name": "stdout",
     "output_type": "stream",
     "text": [
      "(13580, 21)\n",
      "Index(['Suburb', 'Address', 'Rooms', 'Type', 'Price', 'Method', 'SellerG',\n",
      "       'Date', 'Distance', 'Postcode', 'Bedroom2', 'Bathroom', 'Car',\n",
      "       'Landsize', 'BuildingArea', 'YearBuilt', 'CouncilArea', 'Lattitude',\n",
      "       'Longtitude', 'Regionname', 'Propertycount'],\n",
      "      dtype='object')\n"
     ]
    },
    {
     "data": {
      "text/html": [
       "<div>\n",
       "<style scoped>\n",
       "    .dataframe tbody tr th:only-of-type {\n",
       "        vertical-align: middle;\n",
       "    }\n",
       "\n",
       "    .dataframe tbody tr th {\n",
       "        vertical-align: top;\n",
       "    }\n",
       "\n",
       "    .dataframe thead th {\n",
       "        text-align: right;\n",
       "    }\n",
       "</style>\n",
       "<table border=\"1\" class=\"dataframe\">\n",
       "  <thead>\n",
       "    <tr style=\"text-align: right;\">\n",
       "      <th></th>\n",
       "      <th>Rooms</th>\n",
       "      <th>Price</th>\n",
       "      <th>Distance</th>\n",
       "      <th>Postcode</th>\n",
       "      <th>Bedroom2</th>\n",
       "      <th>Bathroom</th>\n",
       "      <th>Car</th>\n",
       "      <th>Landsize</th>\n",
       "      <th>BuildingArea</th>\n",
       "      <th>YearBuilt</th>\n",
       "      <th>Lattitude</th>\n",
       "      <th>Longtitude</th>\n",
       "      <th>Propertycount</th>\n",
       "    </tr>\n",
       "  </thead>\n",
       "  <tbody>\n",
       "    <tr>\n",
       "      <th>count</th>\n",
       "      <td>13580.000000</td>\n",
       "      <td>1.358000e+04</td>\n",
       "      <td>13580.000000</td>\n",
       "      <td>13580.000000</td>\n",
       "      <td>13580.000000</td>\n",
       "      <td>13580.000000</td>\n",
       "      <td>13518.000000</td>\n",
       "      <td>13580.000000</td>\n",
       "      <td>7130.000000</td>\n",
       "      <td>8205.000000</td>\n",
       "      <td>13580.000000</td>\n",
       "      <td>13580.000000</td>\n",
       "      <td>13580.000000</td>\n",
       "    </tr>\n",
       "    <tr>\n",
       "      <th>mean</th>\n",
       "      <td>2.937997</td>\n",
       "      <td>1.075684e+06</td>\n",
       "      <td>10.137776</td>\n",
       "      <td>3105.301915</td>\n",
       "      <td>2.914728</td>\n",
       "      <td>1.534242</td>\n",
       "      <td>1.610075</td>\n",
       "      <td>558.416127</td>\n",
       "      <td>151.967650</td>\n",
       "      <td>1964.684217</td>\n",
       "      <td>-37.809203</td>\n",
       "      <td>144.995216</td>\n",
       "      <td>7454.417378</td>\n",
       "    </tr>\n",
       "    <tr>\n",
       "      <th>std</th>\n",
       "      <td>0.955748</td>\n",
       "      <td>6.393107e+05</td>\n",
       "      <td>5.868725</td>\n",
       "      <td>90.676964</td>\n",
       "      <td>0.965921</td>\n",
       "      <td>0.691712</td>\n",
       "      <td>0.962634</td>\n",
       "      <td>3990.669241</td>\n",
       "      <td>541.014538</td>\n",
       "      <td>37.273762</td>\n",
       "      <td>0.079260</td>\n",
       "      <td>0.103916</td>\n",
       "      <td>4378.581772</td>\n",
       "    </tr>\n",
       "    <tr>\n",
       "      <th>min</th>\n",
       "      <td>1.000000</td>\n",
       "      <td>8.500000e+04</td>\n",
       "      <td>0.000000</td>\n",
       "      <td>3000.000000</td>\n",
       "      <td>0.000000</td>\n",
       "      <td>0.000000</td>\n",
       "      <td>0.000000</td>\n",
       "      <td>0.000000</td>\n",
       "      <td>0.000000</td>\n",
       "      <td>1196.000000</td>\n",
       "      <td>-38.182550</td>\n",
       "      <td>144.431810</td>\n",
       "      <td>249.000000</td>\n",
       "    </tr>\n",
       "    <tr>\n",
       "      <th>25%</th>\n",
       "      <td>2.000000</td>\n",
       "      <td>6.500000e+05</td>\n",
       "      <td>6.100000</td>\n",
       "      <td>3044.000000</td>\n",
       "      <td>2.000000</td>\n",
       "      <td>1.000000</td>\n",
       "      <td>1.000000</td>\n",
       "      <td>177.000000</td>\n",
       "      <td>93.000000</td>\n",
       "      <td>1940.000000</td>\n",
       "      <td>-37.856822</td>\n",
       "      <td>144.929600</td>\n",
       "      <td>4380.000000</td>\n",
       "    </tr>\n",
       "    <tr>\n",
       "      <th>50%</th>\n",
       "      <td>3.000000</td>\n",
       "      <td>9.030000e+05</td>\n",
       "      <td>9.200000</td>\n",
       "      <td>3084.000000</td>\n",
       "      <td>3.000000</td>\n",
       "      <td>1.000000</td>\n",
       "      <td>2.000000</td>\n",
       "      <td>440.000000</td>\n",
       "      <td>126.000000</td>\n",
       "      <td>1970.000000</td>\n",
       "      <td>-37.802355</td>\n",
       "      <td>145.000100</td>\n",
       "      <td>6555.000000</td>\n",
       "    </tr>\n",
       "    <tr>\n",
       "      <th>75%</th>\n",
       "      <td>3.000000</td>\n",
       "      <td>1.330000e+06</td>\n",
       "      <td>13.000000</td>\n",
       "      <td>3148.000000</td>\n",
       "      <td>3.000000</td>\n",
       "      <td>2.000000</td>\n",
       "      <td>2.000000</td>\n",
       "      <td>651.000000</td>\n",
       "      <td>174.000000</td>\n",
       "      <td>1999.000000</td>\n",
       "      <td>-37.756400</td>\n",
       "      <td>145.058305</td>\n",
       "      <td>10331.000000</td>\n",
       "    </tr>\n",
       "    <tr>\n",
       "      <th>max</th>\n",
       "      <td>10.000000</td>\n",
       "      <td>9.000000e+06</td>\n",
       "      <td>48.100000</td>\n",
       "      <td>3977.000000</td>\n",
       "      <td>20.000000</td>\n",
       "      <td>8.000000</td>\n",
       "      <td>10.000000</td>\n",
       "      <td>433014.000000</td>\n",
       "      <td>44515.000000</td>\n",
       "      <td>2018.000000</td>\n",
       "      <td>-37.408530</td>\n",
       "      <td>145.526350</td>\n",
       "      <td>21650.000000</td>\n",
       "    </tr>\n",
       "  </tbody>\n",
       "</table>\n",
       "</div>"
      ],
      "text/plain": [
       "              Rooms         Price      Distance      Postcode      Bedroom2  \\\n",
       "count  13580.000000  1.358000e+04  13580.000000  13580.000000  13580.000000   \n",
       "mean       2.937997  1.075684e+06     10.137776   3105.301915      2.914728   \n",
       "std        0.955748  6.393107e+05      5.868725     90.676964      0.965921   \n",
       "min        1.000000  8.500000e+04      0.000000   3000.000000      0.000000   \n",
       "25%        2.000000  6.500000e+05      6.100000   3044.000000      2.000000   \n",
       "50%        3.000000  9.030000e+05      9.200000   3084.000000      3.000000   \n",
       "75%        3.000000  1.330000e+06     13.000000   3148.000000      3.000000   \n",
       "max       10.000000  9.000000e+06     48.100000   3977.000000     20.000000   \n",
       "\n",
       "           Bathroom           Car       Landsize  BuildingArea    YearBuilt  \\\n",
       "count  13580.000000  13518.000000   13580.000000   7130.000000  8205.000000   \n",
       "mean       1.534242      1.610075     558.416127    151.967650  1964.684217   \n",
       "std        0.691712      0.962634    3990.669241    541.014538    37.273762   \n",
       "min        0.000000      0.000000       0.000000      0.000000  1196.000000   \n",
       "25%        1.000000      1.000000     177.000000     93.000000  1940.000000   \n",
       "50%        1.000000      2.000000     440.000000    126.000000  1970.000000   \n",
       "75%        2.000000      2.000000     651.000000    174.000000  1999.000000   \n",
       "max        8.000000     10.000000  433014.000000  44515.000000  2018.000000   \n",
       "\n",
       "          Lattitude    Longtitude  Propertycount  \n",
       "count  13580.000000  13580.000000   13580.000000  \n",
       "mean     -37.809203    144.995216    7454.417378  \n",
       "std        0.079260      0.103916    4378.581772  \n",
       "min      -38.182550    144.431810     249.000000  \n",
       "25%      -37.856822    144.929600    4380.000000  \n",
       "50%      -37.802355    145.000100    6555.000000  \n",
       "75%      -37.756400    145.058305   10331.000000  \n",
       "max      -37.408530    145.526350   21650.000000  "
      ]
     },
     "execution_count": 4,
     "metadata": {},
     "output_type": "execute_result"
    }
   ],
   "source": [
    "# quick shape and summary of the dataset\n",
    "print(melbourne_data.shape)\n",
    "print(melbourne_data.columns)\n",
    "melbourne_data.describe()\n",
    "\n",
    "# mean: verage\n",
    "# std: standard deviation; measures how numerically spread out the values are.\n",
    "# min, 25%, 50%, 75% and max:"
   ]
  },
  {
   "cell_type": "markdown",
   "id": "79ac2789",
   "metadata": {
    "papermill": {
     "duration": 0.012229,
     "end_time": "2023-07-06T02:58:29.330915",
     "exception": false,
     "start_time": "2023-07-06T02:58:29.318686",
     "status": "completed"
    },
    "tags": []
   },
   "source": [
    "### Access a few fields from the summary"
   ]
  },
  {
   "cell_type": "code",
   "execution_count": 5,
   "id": "b2ade0c4",
   "metadata": {
    "execution": {
     "iopub.execute_input": "2023-07-06T02:58:29.359087Z",
     "iopub.status.busy": "2023-07-06T02:58:29.358220Z",
     "iopub.status.idle": "2023-07-06T02:58:29.407646Z",
     "shell.execute_reply": "2023-07-06T02:58:29.406240Z"
    },
    "papermill": {
     "duration": 0.066793,
     "end_time": "2023-07-06T02:58:29.410413",
     "exception": false,
     "start_time": "2023-07-06T02:58:29.343620",
     "status": "completed"
    },
    "tags": []
   },
   "outputs": [
    {
     "name": "stdout",
     "output_type": "stream",
     "text": [
      "<class 'pandas.core.frame.DataFrame'>\n",
      "558.4161266568483\n",
      "5.0\n"
     ]
    }
   ],
   "source": [
    "# from data frame saved with data summary\n",
    "df = melbourne_data.describe()\n",
    "print(type(df))\n",
    "\n",
    "# average lot size\n",
    "avg_lot_size = df.loc['mean']['Landsize']\n",
    "print(avg_lot_size)\n",
    "\n",
    "# how old is the newest building? - current year - newest YearBuilt\n",
    "import datetime\n",
    "from datetime import datetime\n",
    "newest_building_age = datetime.now().year - df.loc['max']['YearBuilt']\n",
    "print(newest_building_age)\n"
   ]
  },
  {
   "cell_type": "markdown",
   "id": "d8e37411",
   "metadata": {
    "papermill": {
     "duration": 0.01259,
     "end_time": "2023-07-06T02:58:29.437193",
     "exception": false,
     "start_time": "2023-07-06T02:58:29.424603",
     "status": "completed"
    },
    "tags": []
   },
   "source": [
    "#### Selecting Data for Modeling\n",
    "* Dataset had too many variables to wrap your head around, or even to print out nicely. How can you pare down this overwhelming amount of data to something you can understand?   \n",
    "* We'll start by picking a few variables using our intuition. Later courses will show you statistical techniques to automatically prioritize variables. \n",
    "* To choose variables/columns, we'll need to see a list of all columns in the dataset. That is done with the columns property of the DataFrame (the bottom line of code below)."
   ]
  },
  {
   "cell_type": "code",
   "execution_count": 6,
   "id": "df7bd11e",
   "metadata": {
    "execution": {
     "iopub.execute_input": "2023-07-06T02:58:29.465301Z",
     "iopub.status.busy": "2023-07-06T02:58:29.464824Z",
     "iopub.status.idle": "2023-07-06T02:58:29.472570Z",
     "shell.execute_reply": "2023-07-06T02:58:29.471544Z"
    },
    "papermill": {
     "duration": 0.024702,
     "end_time": "2023-07-06T02:58:29.475137",
     "exception": false,
     "start_time": "2023-07-06T02:58:29.450435",
     "status": "completed"
    },
    "tags": []
   },
   "outputs": [
    {
     "data": {
      "text/plain": [
       "Index(['Suburb', 'Address', 'Rooms', 'Type', 'Price', 'Method', 'SellerG',\n",
       "       'Date', 'Distance', 'Postcode', 'Bedroom2', 'Bathroom', 'Car',\n",
       "       'Landsize', 'BuildingArea', 'YearBuilt', 'CouncilArea', 'Lattitude',\n",
       "       'Longtitude', 'Regionname', 'Propertycount'],\n",
       "      dtype='object')"
      ]
     },
     "execution_count": 6,
     "metadata": {},
     "output_type": "execute_result"
    }
   ],
   "source": [
    "# list columns\n",
    "melbourne_data.columns"
   ]
  },
  {
   "cell_type": "code",
   "execution_count": 7,
   "id": "cfefb7f2",
   "metadata": {
    "execution": {
     "iopub.execute_input": "2023-07-06T02:58:29.503485Z",
     "iopub.status.busy": "2023-07-06T02:58:29.503009Z",
     "iopub.status.idle": "2023-07-06T02:58:29.589644Z",
     "shell.execute_reply": "2023-07-06T02:58:29.588338Z"
    },
    "papermill": {
     "duration": 0.104071,
     "end_time": "2023-07-06T02:58:29.592259",
     "exception": false,
     "start_time": "2023-07-06T02:58:29.488188",
     "status": "completed"
    },
    "tags": []
   },
   "outputs": [
    {
     "data": {
      "text/html": [
       "<div>\n",
       "<style scoped>\n",
       "    .dataframe tbody tr th:only-of-type {\n",
       "        vertical-align: middle;\n",
       "    }\n",
       "\n",
       "    .dataframe tbody tr th {\n",
       "        vertical-align: top;\n",
       "    }\n",
       "\n",
       "    .dataframe thead th {\n",
       "        text-align: right;\n",
       "    }\n",
       "</style>\n",
       "<table border=\"1\" class=\"dataframe\">\n",
       "  <thead>\n",
       "    <tr style=\"text-align: right;\">\n",
       "      <th></th>\n",
       "      <th>Suburb</th>\n",
       "      <th>Address</th>\n",
       "      <th>Rooms</th>\n",
       "      <th>Type</th>\n",
       "      <th>Price</th>\n",
       "      <th>Method</th>\n",
       "      <th>SellerG</th>\n",
       "      <th>Date</th>\n",
       "      <th>Distance</th>\n",
       "      <th>Postcode</th>\n",
       "      <th>...</th>\n",
       "      <th>Bathroom</th>\n",
       "      <th>Car</th>\n",
       "      <th>Landsize</th>\n",
       "      <th>BuildingArea</th>\n",
       "      <th>YearBuilt</th>\n",
       "      <th>CouncilArea</th>\n",
       "      <th>Lattitude</th>\n",
       "      <th>Longtitude</th>\n",
       "      <th>Regionname</th>\n",
       "      <th>Propertycount</th>\n",
       "    </tr>\n",
       "  </thead>\n",
       "  <tbody>\n",
       "    <tr>\n",
       "      <th>1</th>\n",
       "      <td>Abbotsford</td>\n",
       "      <td>25 Bloomburg St</td>\n",
       "      <td>2</td>\n",
       "      <td>h</td>\n",
       "      <td>1035000.0</td>\n",
       "      <td>S</td>\n",
       "      <td>Biggin</td>\n",
       "      <td>4/02/2016</td>\n",
       "      <td>2.5</td>\n",
       "      <td>3067.0</td>\n",
       "      <td>...</td>\n",
       "      <td>1.0</td>\n",
       "      <td>0.0</td>\n",
       "      <td>156.0</td>\n",
       "      <td>79.00</td>\n",
       "      <td>1900.0</td>\n",
       "      <td>Yarra</td>\n",
       "      <td>-37.80790</td>\n",
       "      <td>144.99340</td>\n",
       "      <td>Northern Metropolitan</td>\n",
       "      <td>4019.0</td>\n",
       "    </tr>\n",
       "    <tr>\n",
       "      <th>2</th>\n",
       "      <td>Abbotsford</td>\n",
       "      <td>5 Charles St</td>\n",
       "      <td>3</td>\n",
       "      <td>h</td>\n",
       "      <td>1465000.0</td>\n",
       "      <td>SP</td>\n",
       "      <td>Biggin</td>\n",
       "      <td>4/03/2017</td>\n",
       "      <td>2.5</td>\n",
       "      <td>3067.0</td>\n",
       "      <td>...</td>\n",
       "      <td>2.0</td>\n",
       "      <td>0.0</td>\n",
       "      <td>134.0</td>\n",
       "      <td>150.00</td>\n",
       "      <td>1900.0</td>\n",
       "      <td>Yarra</td>\n",
       "      <td>-37.80930</td>\n",
       "      <td>144.99440</td>\n",
       "      <td>Northern Metropolitan</td>\n",
       "      <td>4019.0</td>\n",
       "    </tr>\n",
       "    <tr>\n",
       "      <th>4</th>\n",
       "      <td>Abbotsford</td>\n",
       "      <td>55a Park St</td>\n",
       "      <td>4</td>\n",
       "      <td>h</td>\n",
       "      <td>1600000.0</td>\n",
       "      <td>VB</td>\n",
       "      <td>Nelson</td>\n",
       "      <td>4/06/2016</td>\n",
       "      <td>2.5</td>\n",
       "      <td>3067.0</td>\n",
       "      <td>...</td>\n",
       "      <td>1.0</td>\n",
       "      <td>2.0</td>\n",
       "      <td>120.0</td>\n",
       "      <td>142.00</td>\n",
       "      <td>2014.0</td>\n",
       "      <td>Yarra</td>\n",
       "      <td>-37.80720</td>\n",
       "      <td>144.99410</td>\n",
       "      <td>Northern Metropolitan</td>\n",
       "      <td>4019.0</td>\n",
       "    </tr>\n",
       "    <tr>\n",
       "      <th>6</th>\n",
       "      <td>Abbotsford</td>\n",
       "      <td>124 Yarra St</td>\n",
       "      <td>3</td>\n",
       "      <td>h</td>\n",
       "      <td>1876000.0</td>\n",
       "      <td>S</td>\n",
       "      <td>Nelson</td>\n",
       "      <td>7/05/2016</td>\n",
       "      <td>2.5</td>\n",
       "      <td>3067.0</td>\n",
       "      <td>...</td>\n",
       "      <td>2.0</td>\n",
       "      <td>0.0</td>\n",
       "      <td>245.0</td>\n",
       "      <td>210.00</td>\n",
       "      <td>1910.0</td>\n",
       "      <td>Yarra</td>\n",
       "      <td>-37.80240</td>\n",
       "      <td>144.99930</td>\n",
       "      <td>Northern Metropolitan</td>\n",
       "      <td>4019.0</td>\n",
       "    </tr>\n",
       "    <tr>\n",
       "      <th>7</th>\n",
       "      <td>Abbotsford</td>\n",
       "      <td>98 Charles St</td>\n",
       "      <td>2</td>\n",
       "      <td>h</td>\n",
       "      <td>1636000.0</td>\n",
       "      <td>S</td>\n",
       "      <td>Nelson</td>\n",
       "      <td>8/10/2016</td>\n",
       "      <td>2.5</td>\n",
       "      <td>3067.0</td>\n",
       "      <td>...</td>\n",
       "      <td>1.0</td>\n",
       "      <td>2.0</td>\n",
       "      <td>256.0</td>\n",
       "      <td>107.00</td>\n",
       "      <td>1890.0</td>\n",
       "      <td>Yarra</td>\n",
       "      <td>-37.80600</td>\n",
       "      <td>144.99540</td>\n",
       "      <td>Northern Metropolitan</td>\n",
       "      <td>4019.0</td>\n",
       "    </tr>\n",
       "    <tr>\n",
       "      <th>...</th>\n",
       "      <td>...</td>\n",
       "      <td>...</td>\n",
       "      <td>...</td>\n",
       "      <td>...</td>\n",
       "      <td>...</td>\n",
       "      <td>...</td>\n",
       "      <td>...</td>\n",
       "      <td>...</td>\n",
       "      <td>...</td>\n",
       "      <td>...</td>\n",
       "      <td>...</td>\n",
       "      <td>...</td>\n",
       "      <td>...</td>\n",
       "      <td>...</td>\n",
       "      <td>...</td>\n",
       "      <td>...</td>\n",
       "      <td>...</td>\n",
       "      <td>...</td>\n",
       "      <td>...</td>\n",
       "      <td>...</td>\n",
       "      <td>...</td>\n",
       "    </tr>\n",
       "    <tr>\n",
       "      <th>12205</th>\n",
       "      <td>Whittlesea</td>\n",
       "      <td>30 Sherwin St</td>\n",
       "      <td>3</td>\n",
       "      <td>h</td>\n",
       "      <td>601000.0</td>\n",
       "      <td>S</td>\n",
       "      <td>Ray</td>\n",
       "      <td>29/07/2017</td>\n",
       "      <td>35.5</td>\n",
       "      <td>3757.0</td>\n",
       "      <td>...</td>\n",
       "      <td>2.0</td>\n",
       "      <td>1.0</td>\n",
       "      <td>972.0</td>\n",
       "      <td>149.00</td>\n",
       "      <td>1996.0</td>\n",
       "      <td>Whittlesea</td>\n",
       "      <td>-37.51232</td>\n",
       "      <td>145.13282</td>\n",
       "      <td>Northern Victoria</td>\n",
       "      <td>2170.0</td>\n",
       "    </tr>\n",
       "    <tr>\n",
       "      <th>12206</th>\n",
       "      <td>Williamstown</td>\n",
       "      <td>75 Cecil St</td>\n",
       "      <td>3</td>\n",
       "      <td>h</td>\n",
       "      <td>1050000.0</td>\n",
       "      <td>VB</td>\n",
       "      <td>Williams</td>\n",
       "      <td>29/07/2017</td>\n",
       "      <td>6.8</td>\n",
       "      <td>3016.0</td>\n",
       "      <td>...</td>\n",
       "      <td>1.0</td>\n",
       "      <td>0.0</td>\n",
       "      <td>179.0</td>\n",
       "      <td>115.00</td>\n",
       "      <td>1890.0</td>\n",
       "      <td>Hobsons Bay</td>\n",
       "      <td>-37.86558</td>\n",
       "      <td>144.90474</td>\n",
       "      <td>Western Metropolitan</td>\n",
       "      <td>6380.0</td>\n",
       "    </tr>\n",
       "    <tr>\n",
       "      <th>12207</th>\n",
       "      <td>Williamstown</td>\n",
       "      <td>2/29 Dover Rd</td>\n",
       "      <td>1</td>\n",
       "      <td>u</td>\n",
       "      <td>385000.0</td>\n",
       "      <td>SP</td>\n",
       "      <td>Williams</td>\n",
       "      <td>29/07/2017</td>\n",
       "      <td>6.8</td>\n",
       "      <td>3016.0</td>\n",
       "      <td>...</td>\n",
       "      <td>1.0</td>\n",
       "      <td>1.0</td>\n",
       "      <td>0.0</td>\n",
       "      <td>35.64</td>\n",
       "      <td>1967.0</td>\n",
       "      <td>Hobsons Bay</td>\n",
       "      <td>-37.85588</td>\n",
       "      <td>144.89936</td>\n",
       "      <td>Western Metropolitan</td>\n",
       "      <td>6380.0</td>\n",
       "    </tr>\n",
       "    <tr>\n",
       "      <th>12209</th>\n",
       "      <td>Windsor</td>\n",
       "      <td>201/152 Peel St</td>\n",
       "      <td>2</td>\n",
       "      <td>u</td>\n",
       "      <td>560000.0</td>\n",
       "      <td>PI</td>\n",
       "      <td>hockingstuart</td>\n",
       "      <td>29/07/2017</td>\n",
       "      <td>4.6</td>\n",
       "      <td>3181.0</td>\n",
       "      <td>...</td>\n",
       "      <td>1.0</td>\n",
       "      <td>1.0</td>\n",
       "      <td>0.0</td>\n",
       "      <td>61.60</td>\n",
       "      <td>2012.0</td>\n",
       "      <td>Stonnington</td>\n",
       "      <td>-37.85581</td>\n",
       "      <td>144.99025</td>\n",
       "      <td>Southern Metropolitan</td>\n",
       "      <td>4380.0</td>\n",
       "    </tr>\n",
       "    <tr>\n",
       "      <th>12212</th>\n",
       "      <td>Yarraville</td>\n",
       "      <td>54 Pentland Pde</td>\n",
       "      <td>6</td>\n",
       "      <td>h</td>\n",
       "      <td>2450000.0</td>\n",
       "      <td>VB</td>\n",
       "      <td>Village</td>\n",
       "      <td>29/07/2017</td>\n",
       "      <td>6.3</td>\n",
       "      <td>3013.0</td>\n",
       "      <td>...</td>\n",
       "      <td>3.0</td>\n",
       "      <td>2.0</td>\n",
       "      <td>1087.0</td>\n",
       "      <td>388.50</td>\n",
       "      <td>1920.0</td>\n",
       "      <td>Maribyrnong</td>\n",
       "      <td>-37.81038</td>\n",
       "      <td>144.89389</td>\n",
       "      <td>Western Metropolitan</td>\n",
       "      <td>6543.0</td>\n",
       "    </tr>\n",
       "  </tbody>\n",
       "</table>\n",
       "<p>6196 rows × 21 columns</p>\n",
       "</div>"
      ],
      "text/plain": [
       "             Suburb          Address  Rooms Type      Price Method  \\\n",
       "1        Abbotsford  25 Bloomburg St      2    h  1035000.0      S   \n",
       "2        Abbotsford     5 Charles St      3    h  1465000.0     SP   \n",
       "4        Abbotsford      55a Park St      4    h  1600000.0     VB   \n",
       "6        Abbotsford     124 Yarra St      3    h  1876000.0      S   \n",
       "7        Abbotsford    98 Charles St      2    h  1636000.0      S   \n",
       "...             ...              ...    ...  ...        ...    ...   \n",
       "12205    Whittlesea    30 Sherwin St      3    h   601000.0      S   \n",
       "12206  Williamstown      75 Cecil St      3    h  1050000.0     VB   \n",
       "12207  Williamstown    2/29 Dover Rd      1    u   385000.0     SP   \n",
       "12209       Windsor  201/152 Peel St      2    u   560000.0     PI   \n",
       "12212    Yarraville  54 Pentland Pde      6    h  2450000.0     VB   \n",
       "\n",
       "             SellerG        Date  Distance  Postcode  ...  Bathroom  Car  \\\n",
       "1             Biggin   4/02/2016       2.5    3067.0  ...       1.0  0.0   \n",
       "2             Biggin   4/03/2017       2.5    3067.0  ...       2.0  0.0   \n",
       "4             Nelson   4/06/2016       2.5    3067.0  ...       1.0  2.0   \n",
       "6             Nelson   7/05/2016       2.5    3067.0  ...       2.0  0.0   \n",
       "7             Nelson   8/10/2016       2.5    3067.0  ...       1.0  2.0   \n",
       "...              ...         ...       ...       ...  ...       ...  ...   \n",
       "12205            Ray  29/07/2017      35.5    3757.0  ...       2.0  1.0   \n",
       "12206       Williams  29/07/2017       6.8    3016.0  ...       1.0  0.0   \n",
       "12207       Williams  29/07/2017       6.8    3016.0  ...       1.0  1.0   \n",
       "12209  hockingstuart  29/07/2017       4.6    3181.0  ...       1.0  1.0   \n",
       "12212        Village  29/07/2017       6.3    3013.0  ...       3.0  2.0   \n",
       "\n",
       "       Landsize  BuildingArea  YearBuilt  CouncilArea Lattitude  Longtitude  \\\n",
       "1         156.0         79.00     1900.0        Yarra -37.80790   144.99340   \n",
       "2         134.0        150.00     1900.0        Yarra -37.80930   144.99440   \n",
       "4         120.0        142.00     2014.0        Yarra -37.80720   144.99410   \n",
       "6         245.0        210.00     1910.0        Yarra -37.80240   144.99930   \n",
       "7         256.0        107.00     1890.0        Yarra -37.80600   144.99540   \n",
       "...         ...           ...        ...          ...       ...         ...   \n",
       "12205     972.0        149.00     1996.0   Whittlesea -37.51232   145.13282   \n",
       "12206     179.0        115.00     1890.0  Hobsons Bay -37.86558   144.90474   \n",
       "12207       0.0         35.64     1967.0  Hobsons Bay -37.85588   144.89936   \n",
       "12209       0.0         61.60     2012.0  Stonnington -37.85581   144.99025   \n",
       "12212    1087.0        388.50     1920.0  Maribyrnong -37.81038   144.89389   \n",
       "\n",
       "                  Regionname Propertycount  \n",
       "1      Northern Metropolitan        4019.0  \n",
       "2      Northern Metropolitan        4019.0  \n",
       "4      Northern Metropolitan        4019.0  \n",
       "6      Northern Metropolitan        4019.0  \n",
       "7      Northern Metropolitan        4019.0  \n",
       "...                      ...           ...  \n",
       "12205      Northern Victoria        2170.0  \n",
       "12206   Western Metropolitan        6380.0  \n",
       "12207   Western Metropolitan        6380.0  \n",
       "12209  Southern Metropolitan        4380.0  \n",
       "12212   Western Metropolitan        6543.0  \n",
       "\n",
       "[6196 rows x 21 columns]"
      ]
     },
     "execution_count": 7,
     "metadata": {},
     "output_type": "execute_result"
    }
   ],
   "source": [
    "# drop rows with missing values (axis=0) for now for simplicity\n",
    "melbourne_data.dropna(axis=0)"
   ]
  },
  {
   "cell_type": "code",
   "execution_count": 8,
   "id": "4d67b211",
   "metadata": {
    "execution": {
     "iopub.execute_input": "2023-07-06T02:58:29.622518Z",
     "iopub.status.busy": "2023-07-06T02:58:29.622019Z",
     "iopub.status.idle": "2023-07-06T02:58:29.628452Z",
     "shell.execute_reply": "2023-07-06T02:58:29.627211Z"
    },
    "papermill": {
     "duration": 0.025096,
     "end_time": "2023-07-06T02:58:29.631423",
     "exception": false,
     "start_time": "2023-07-06T02:58:29.606327",
     "status": "completed"
    },
    "tags": []
   },
   "outputs": [
    {
     "name": "stdout",
     "output_type": "stream",
     "text": [
      "Index(['Suburb', 'Address', 'Rooms', 'Type', 'Price', 'Method', 'SellerG',\n",
      "       'Date', 'Distance', 'Postcode', 'Bedroom2', 'Bathroom', 'Car',\n",
      "       'Landsize', 'BuildingArea', 'YearBuilt', 'CouncilArea', 'Lattitude',\n",
      "       'Longtitude', 'Regionname', 'Propertycount'],\n",
      "      dtype='object')\n"
     ]
    }
   ],
   "source": [
    "# print the list of columns in the dataset to find th|e name of the prediction target\n",
    "print(melbourne_data.columns)"
   ]
  },
  {
   "cell_type": "markdown",
   "id": "841ae9fb",
   "metadata": {
    "papermill": {
     "duration": 0.013412,
     "end_time": "2023-07-06T02:58:29.658824",
     "exception": false,
     "start_time": "2023-07-06T02:58:29.645412",
     "status": "completed"
    },
    "tags": []
   },
   "source": [
    "### 1. Set 'prediciton target' and 'features' "
   ]
  },
  {
   "cell_type": "code",
   "execution_count": 9,
   "id": "54f44a27",
   "metadata": {
    "execution": {
     "iopub.execute_input": "2023-07-06T02:58:29.688737Z",
     "iopub.status.busy": "2023-07-06T02:58:29.688282Z",
     "iopub.status.idle": "2023-07-06T02:58:29.698475Z",
     "shell.execute_reply": "2023-07-06T02:58:29.697228Z"
    },
    "papermill": {
     "duration": 0.028196,
     "end_time": "2023-07-06T02:58:29.701053",
     "exception": false,
     "start_time": "2023-07-06T02:58:29.672857",
     "status": "completed"
    },
    "tags": []
   },
   "outputs": [],
   "source": [
    "# not using subsetting the dataset using pandas here\n",
    "# select 'prediction_target' and 'features' using dot notation and list \n",
    "\n",
    "# set the column that we want our model to use as predict target\n",
    "# here, we use Price column as our prediction target in this project, by convention, always assign it to 'y'\n",
    "y = melbourne_data.Price  \n",
    "\n",
    "# build a list of features using a few selected columns that could be associated with Price, here 5 columns selected for a start\n",
    "melbourne_features = ['Rooms', 'Bathroom', 'Landsize', 'Lattitude', 'Longtitude']  \n",
    "# By convenstion, always assign it to X\n",
    "X = melbourne_data[melbourne_features]"
   ]
  },
  {
   "cell_type": "code",
   "execution_count": 10,
   "id": "9912a875",
   "metadata": {
    "execution": {
     "iopub.execute_input": "2023-07-06T02:58:29.731040Z",
     "iopub.status.busy": "2023-07-06T02:58:29.730619Z",
     "iopub.status.idle": "2023-07-06T02:58:29.744100Z",
     "shell.execute_reply": "2023-07-06T02:58:29.742812Z"
    },
    "papermill": {
     "duration": 0.032247,
     "end_time": "2023-07-06T02:58:29.747251",
     "exception": false,
     "start_time": "2023-07-06T02:58:29.715004",
     "status": "completed"
    },
    "tags": []
   },
   "outputs": [
    {
     "name": "stdout",
     "output_type": "stream",
     "text": [
      "0        1480000.0\n",
      "1        1035000.0\n",
      "2        1465000.0\n",
      "3         850000.0\n",
      "4        1600000.0\n",
      "           ...    \n",
      "13575    1245000.0\n",
      "13576    1031000.0\n",
      "13577    1170000.0\n",
      "13578    2500000.0\n",
      "13579    1285000.0\n",
      "Name: Price, Length: 13580, dtype: float64\n",
      "<class 'pandas.core.series.Series'>\n",
      "       Rooms  Bathroom  Landsize  Lattitude  Longtitude\n",
      "0          2       1.0     202.0  -37.79960   144.99840\n",
      "1          2       1.0     156.0  -37.80790   144.99340\n",
      "2          3       2.0     134.0  -37.80930   144.99440\n",
      "3          3       2.0      94.0  -37.79690   144.99690\n",
      "4          4       1.0     120.0  -37.80720   144.99410\n",
      "...      ...       ...       ...        ...         ...\n",
      "13575      4       2.0     652.0  -37.90562   145.16761\n",
      "13576      3       2.0     333.0  -37.85927   144.87904\n",
      "13577      3       2.0     436.0  -37.85274   144.88738\n",
      "13578      4       1.0     866.0  -37.85908   144.89299\n",
      "13579      4       1.0     362.0  -37.81188   144.88449\n",
      "\n",
      "[13580 rows x 5 columns]\n"
     ]
    }
   ],
   "source": [
    "print(y)\n",
    "print(type(y))\n",
    "print(X)"
   ]
  },
  {
   "cell_type": "markdown",
   "id": "af85af03",
   "metadata": {
    "papermill": {
     "duration": 0.013654,
     "end_time": "2023-07-06T02:58:29.775029",
     "exception": false,
     "start_time": "2023-07-06T02:58:29.761375",
     "status": "completed"
    },
    "tags": []
   },
   "source": [
    "### 2. Review the data frame with selected features "
   ]
  },
  {
   "cell_type": "code",
   "execution_count": 11,
   "id": "dbea2631",
   "metadata": {
    "execution": {
     "iopub.execute_input": "2023-07-06T02:58:29.805022Z",
     "iopub.status.busy": "2023-07-06T02:58:29.804598Z",
     "iopub.status.idle": "2023-07-06T02:58:29.835667Z",
     "shell.execute_reply": "2023-07-06T02:58:29.834743Z"
    },
    "papermill": {
     "duration": 0.049011,
     "end_time": "2023-07-06T02:58:29.838113",
     "exception": false,
     "start_time": "2023-07-06T02:58:29.789102",
     "status": "completed"
    },
    "tags": []
   },
   "outputs": [
    {
     "data": {
      "text/html": [
       "<div>\n",
       "<style scoped>\n",
       "    .dataframe tbody tr th:only-of-type {\n",
       "        vertical-align: middle;\n",
       "    }\n",
       "\n",
       "    .dataframe tbody tr th {\n",
       "        vertical-align: top;\n",
       "    }\n",
       "\n",
       "    .dataframe thead th {\n",
       "        text-align: right;\n",
       "    }\n",
       "</style>\n",
       "<table border=\"1\" class=\"dataframe\">\n",
       "  <thead>\n",
       "    <tr style=\"text-align: right;\">\n",
       "      <th></th>\n",
       "      <th>Rooms</th>\n",
       "      <th>Bathroom</th>\n",
       "      <th>Landsize</th>\n",
       "      <th>Lattitude</th>\n",
       "      <th>Longtitude</th>\n",
       "    </tr>\n",
       "  </thead>\n",
       "  <tbody>\n",
       "    <tr>\n",
       "      <th>count</th>\n",
       "      <td>13580.000000</td>\n",
       "      <td>13580.000000</td>\n",
       "      <td>13580.000000</td>\n",
       "      <td>13580.000000</td>\n",
       "      <td>13580.000000</td>\n",
       "    </tr>\n",
       "    <tr>\n",
       "      <th>mean</th>\n",
       "      <td>2.937997</td>\n",
       "      <td>1.534242</td>\n",
       "      <td>558.416127</td>\n",
       "      <td>-37.809203</td>\n",
       "      <td>144.995216</td>\n",
       "    </tr>\n",
       "    <tr>\n",
       "      <th>std</th>\n",
       "      <td>0.955748</td>\n",
       "      <td>0.691712</td>\n",
       "      <td>3990.669241</td>\n",
       "      <td>0.079260</td>\n",
       "      <td>0.103916</td>\n",
       "    </tr>\n",
       "    <tr>\n",
       "      <th>min</th>\n",
       "      <td>1.000000</td>\n",
       "      <td>0.000000</td>\n",
       "      <td>0.000000</td>\n",
       "      <td>-38.182550</td>\n",
       "      <td>144.431810</td>\n",
       "    </tr>\n",
       "    <tr>\n",
       "      <th>25%</th>\n",
       "      <td>2.000000</td>\n",
       "      <td>1.000000</td>\n",
       "      <td>177.000000</td>\n",
       "      <td>-37.856822</td>\n",
       "      <td>144.929600</td>\n",
       "    </tr>\n",
       "    <tr>\n",
       "      <th>50%</th>\n",
       "      <td>3.000000</td>\n",
       "      <td>1.000000</td>\n",
       "      <td>440.000000</td>\n",
       "      <td>-37.802355</td>\n",
       "      <td>145.000100</td>\n",
       "    </tr>\n",
       "    <tr>\n",
       "      <th>75%</th>\n",
       "      <td>3.000000</td>\n",
       "      <td>2.000000</td>\n",
       "      <td>651.000000</td>\n",
       "      <td>-37.756400</td>\n",
       "      <td>145.058305</td>\n",
       "    </tr>\n",
       "    <tr>\n",
       "      <th>max</th>\n",
       "      <td>10.000000</td>\n",
       "      <td>8.000000</td>\n",
       "      <td>433014.000000</td>\n",
       "      <td>-37.408530</td>\n",
       "      <td>145.526350</td>\n",
       "    </tr>\n",
       "  </tbody>\n",
       "</table>\n",
       "</div>"
      ],
      "text/plain": [
       "              Rooms      Bathroom       Landsize     Lattitude    Longtitude\n",
       "count  13580.000000  13580.000000   13580.000000  13580.000000  13580.000000\n",
       "mean       2.937997      1.534242     558.416127    -37.809203    144.995216\n",
       "std        0.955748      0.691712    3990.669241      0.079260      0.103916\n",
       "min        1.000000      0.000000       0.000000    -38.182550    144.431810\n",
       "25%        2.000000      1.000000     177.000000    -37.856822    144.929600\n",
       "50%        3.000000      1.000000     440.000000    -37.802355    145.000100\n",
       "75%        3.000000      2.000000     651.000000    -37.756400    145.058305\n",
       "max       10.000000      8.000000  433014.000000    -37.408530    145.526350"
      ]
     },
     "execution_count": 11,
     "metadata": {},
     "output_type": "execute_result"
    }
   ],
   "source": [
    "X.describe()"
   ]
  },
  {
   "cell_type": "code",
   "execution_count": 12,
   "id": "e487cc57",
   "metadata": {
    "execution": {
     "iopub.execute_input": "2023-07-06T02:58:29.868950Z",
     "iopub.status.busy": "2023-07-06T02:58:29.868121Z",
     "iopub.status.idle": "2023-07-06T02:58:29.883478Z",
     "shell.execute_reply": "2023-07-06T02:58:29.882306Z"
    },
    "papermill": {
     "duration": 0.03352,
     "end_time": "2023-07-06T02:58:29.886091",
     "exception": false,
     "start_time": "2023-07-06T02:58:29.852571",
     "status": "completed"
    },
    "tags": []
   },
   "outputs": [
    {
     "data": {
      "text/html": [
       "<div>\n",
       "<style scoped>\n",
       "    .dataframe tbody tr th:only-of-type {\n",
       "        vertical-align: middle;\n",
       "    }\n",
       "\n",
       "    .dataframe tbody tr th {\n",
       "        vertical-align: top;\n",
       "    }\n",
       "\n",
       "    .dataframe thead th {\n",
       "        text-align: right;\n",
       "    }\n",
       "</style>\n",
       "<table border=\"1\" class=\"dataframe\">\n",
       "  <thead>\n",
       "    <tr style=\"text-align: right;\">\n",
       "      <th></th>\n",
       "      <th>Rooms</th>\n",
       "      <th>Bathroom</th>\n",
       "      <th>Landsize</th>\n",
       "      <th>Lattitude</th>\n",
       "      <th>Longtitude</th>\n",
       "    </tr>\n",
       "  </thead>\n",
       "  <tbody>\n",
       "    <tr>\n",
       "      <th>0</th>\n",
       "      <td>2</td>\n",
       "      <td>1.0</td>\n",
       "      <td>202.0</td>\n",
       "      <td>-37.7996</td>\n",
       "      <td>144.9984</td>\n",
       "    </tr>\n",
       "    <tr>\n",
       "      <th>1</th>\n",
       "      <td>2</td>\n",
       "      <td>1.0</td>\n",
       "      <td>156.0</td>\n",
       "      <td>-37.8079</td>\n",
       "      <td>144.9934</td>\n",
       "    </tr>\n",
       "    <tr>\n",
       "      <th>2</th>\n",
       "      <td>3</td>\n",
       "      <td>2.0</td>\n",
       "      <td>134.0</td>\n",
       "      <td>-37.8093</td>\n",
       "      <td>144.9944</td>\n",
       "    </tr>\n",
       "    <tr>\n",
       "      <th>3</th>\n",
       "      <td>3</td>\n",
       "      <td>2.0</td>\n",
       "      <td>94.0</td>\n",
       "      <td>-37.7969</td>\n",
       "      <td>144.9969</td>\n",
       "    </tr>\n",
       "    <tr>\n",
       "      <th>4</th>\n",
       "      <td>4</td>\n",
       "      <td>1.0</td>\n",
       "      <td>120.0</td>\n",
       "      <td>-37.8072</td>\n",
       "      <td>144.9941</td>\n",
       "    </tr>\n",
       "  </tbody>\n",
       "</table>\n",
       "</div>"
      ],
      "text/plain": [
       "   Rooms  Bathroom  Landsize  Lattitude  Longtitude\n",
       "0      2       1.0     202.0   -37.7996    144.9984\n",
       "1      2       1.0     156.0   -37.8079    144.9934\n",
       "2      3       2.0     134.0   -37.8093    144.9944\n",
       "3      3       2.0      94.0   -37.7969    144.9969\n",
       "4      4       1.0     120.0   -37.8072    144.9941"
      ]
     },
     "execution_count": 12,
     "metadata": {},
     "output_type": "execute_result"
    }
   ],
   "source": [
    "# Visually checking your data with these commands is an important part of a data scientist's job. \n",
    "# You'll frequently find surprises in the dataset that deserve further inspection.\n",
    "X.head()"
   ]
  },
  {
   "cell_type": "markdown",
   "id": "ccb6794f",
   "metadata": {
    "papermill": {
     "duration": 0.014148,
     "end_time": "2023-07-06T02:58:29.915049",
     "exception": false,
     "start_time": "2023-07-06T02:58:29.900901",
     "status": "completed"
    },
    "tags": []
   },
   "source": [
    "### Building your model using sklearn (scikit-learn)\n",
    "Most popular library for modeling the types of data typically stored in DataFrames.\n",
    "steps:\n",
    "* **Define** - What type of model will it be? A decision tree? Some other type of model? Some other parameters of the model type are specified too\n",
    "* **Fit** - Capture patterns from provided data. This is the heart of modeling.\n",
    "* **Predict** - Just what it sounds like\n",
    "* **Evaluate** - Determine how accurate the model's predictions are."
   ]
  },
  {
   "cell_type": "code",
   "execution_count": 13,
   "id": "5888f3a7",
   "metadata": {
    "execution": {
     "iopub.execute_input": "2023-07-06T02:58:29.947134Z",
     "iopub.status.busy": "2023-07-06T02:58:29.946275Z",
     "iopub.status.idle": "2023-07-06T02:58:31.731144Z",
     "shell.execute_reply": "2023-07-06T02:58:31.729932Z"
    },
    "papermill": {
     "duration": 1.804138,
     "end_time": "2023-07-06T02:58:31.734252",
     "exception": false,
     "start_time": "2023-07-06T02:58:29.930114",
     "status": "completed"
    },
    "tags": []
   },
   "outputs": [
    {
     "data": {
      "text/html": [
       "<style>#sk-container-id-1 {color: black;background-color: white;}#sk-container-id-1 pre{padding: 0;}#sk-container-id-1 div.sk-toggleable {background-color: white;}#sk-container-id-1 label.sk-toggleable__label {cursor: pointer;display: block;width: 100%;margin-bottom: 0;padding: 0.3em;box-sizing: border-box;text-align: center;}#sk-container-id-1 label.sk-toggleable__label-arrow:before {content: \"▸\";float: left;margin-right: 0.25em;color: #696969;}#sk-container-id-1 label.sk-toggleable__label-arrow:hover:before {color: black;}#sk-container-id-1 div.sk-estimator:hover label.sk-toggleable__label-arrow:before {color: black;}#sk-container-id-1 div.sk-toggleable__content {max-height: 0;max-width: 0;overflow: hidden;text-align: left;background-color: #f0f8ff;}#sk-container-id-1 div.sk-toggleable__content pre {margin: 0.2em;color: black;border-radius: 0.25em;background-color: #f0f8ff;}#sk-container-id-1 input.sk-toggleable__control:checked~div.sk-toggleable__content {max-height: 200px;max-width: 100%;overflow: auto;}#sk-container-id-1 input.sk-toggleable__control:checked~label.sk-toggleable__label-arrow:before {content: \"▾\";}#sk-container-id-1 div.sk-estimator input.sk-toggleable__control:checked~label.sk-toggleable__label {background-color: #d4ebff;}#sk-container-id-1 div.sk-label input.sk-toggleable__control:checked~label.sk-toggleable__label {background-color: #d4ebff;}#sk-container-id-1 input.sk-hidden--visually {border: 0;clip: rect(1px 1px 1px 1px);clip: rect(1px, 1px, 1px, 1px);height: 1px;margin: -1px;overflow: hidden;padding: 0;position: absolute;width: 1px;}#sk-container-id-1 div.sk-estimator {font-family: monospace;background-color: #f0f8ff;border: 1px dotted black;border-radius: 0.25em;box-sizing: border-box;margin-bottom: 0.5em;}#sk-container-id-1 div.sk-estimator:hover {background-color: #d4ebff;}#sk-container-id-1 div.sk-parallel-item::after {content: \"\";width: 100%;border-bottom: 1px solid gray;flex-grow: 1;}#sk-container-id-1 div.sk-label:hover label.sk-toggleable__label {background-color: #d4ebff;}#sk-container-id-1 div.sk-serial::before {content: \"\";position: absolute;border-left: 1px solid gray;box-sizing: border-box;top: 0;bottom: 0;left: 50%;z-index: 0;}#sk-container-id-1 div.sk-serial {display: flex;flex-direction: column;align-items: center;background-color: white;padding-right: 0.2em;padding-left: 0.2em;position: relative;}#sk-container-id-1 div.sk-item {position: relative;z-index: 1;}#sk-container-id-1 div.sk-parallel {display: flex;align-items: stretch;justify-content: center;background-color: white;position: relative;}#sk-container-id-1 div.sk-item::before, #sk-container-id-1 div.sk-parallel-item::before {content: \"\";position: absolute;border-left: 1px solid gray;box-sizing: border-box;top: 0;bottom: 0;left: 50%;z-index: -1;}#sk-container-id-1 div.sk-parallel-item {display: flex;flex-direction: column;z-index: 1;position: relative;background-color: white;}#sk-container-id-1 div.sk-parallel-item:first-child::after {align-self: flex-end;width: 50%;}#sk-container-id-1 div.sk-parallel-item:last-child::after {align-self: flex-start;width: 50%;}#sk-container-id-1 div.sk-parallel-item:only-child::after {width: 0;}#sk-container-id-1 div.sk-dashed-wrapped {border: 1px dashed gray;margin: 0 0.4em 0.5em 0.4em;box-sizing: border-box;padding-bottom: 0.4em;background-color: white;}#sk-container-id-1 div.sk-label label {font-family: monospace;font-weight: bold;display: inline-block;line-height: 1.2em;}#sk-container-id-1 div.sk-label-container {text-align: center;}#sk-container-id-1 div.sk-container {/* jupyter's `normalize.less` sets `[hidden] { display: none; }` but bootstrap.min.css set `[hidden] { display: none !important; }` so we also need the `!important` here to be able to override the default hidden behavior on the sphinx rendered scikit-learn.org. See: https://github.com/scikit-learn/scikit-learn/issues/21755 */display: inline-block !important;position: relative;}#sk-container-id-1 div.sk-text-repr-fallback {display: none;}</style><div id=\"sk-container-id-1\" class=\"sk-top-container\"><div class=\"sk-text-repr-fallback\"><pre>DecisionTreeRegressor(random_state=1)</pre><b>In a Jupyter environment, please rerun this cell to show the HTML representation or trust the notebook. <br />On GitHub, the HTML representation is unable to render, please try loading this page with nbviewer.org.</b></div><div class=\"sk-container\" hidden><div class=\"sk-item\"><div class=\"sk-estimator sk-toggleable\"><input class=\"sk-toggleable__control sk-hidden--visually\" id=\"sk-estimator-id-1\" type=\"checkbox\" checked><label for=\"sk-estimator-id-1\" class=\"sk-toggleable__label sk-toggleable__label-arrow\">DecisionTreeRegressor</label><div class=\"sk-toggleable__content\"><pre>DecisionTreeRegressor(random_state=1)</pre></div></div></div></div></div>"
      ],
      "text/plain": [
       "DecisionTreeRegressor(random_state=1)"
      ]
     },
     "execution_count": 13,
     "metadata": {},
     "output_type": "execute_result"
    }
   ],
   "source": [
    "# Define - here, using Decision Tree from sklearn\n",
    "from sklearn.tree import DecisionTreeRegressor\n",
    "\n",
    "# Define model. Specify a number for random_state to ensure same results each run\n",
    "# Many machine learning models allow some randomness in model training. \n",
    "# Specifying a number for random_state ensures you get the same results in each run. \n",
    "# This is considered a good practice. \n",
    "# You use any number, and model quality won't depend meaningfully on exactly what value you choose.\n",
    "melbourne_model = DecisionTreeRegressor(random_state=1)\n",
    "\n",
    "# Fit model\n",
    "melbourne_model.fit(X, y)"
   ]
  },
  {
   "cell_type": "code",
   "execution_count": 14,
   "id": "6296c8a1",
   "metadata": {
    "execution": {
     "iopub.execute_input": "2023-07-06T02:58:31.767516Z",
     "iopub.status.busy": "2023-07-06T02:58:31.766368Z",
     "iopub.status.idle": "2023-07-06T02:58:31.779627Z",
     "shell.execute_reply": "2023-07-06T02:58:31.778393Z"
    },
    "papermill": {
     "duration": 0.033197,
     "end_time": "2023-07-06T02:58:31.782772",
     "exception": false,
     "start_time": "2023-07-06T02:58:31.749575",
     "status": "completed"
    },
    "tags": []
   },
   "outputs": [
    {
     "name": "stdout",
     "output_type": "stream",
     "text": [
      "Making prediction for the following 5 houses:\n",
      "   Rooms  Bathroom  Landsize  Lattitude  Longtitude\n",
      "0      2       1.0     202.0   -37.7996    144.9984\n",
      "1      2       1.0     156.0   -37.8079    144.9934\n",
      "2      3       2.0     134.0   -37.8093    144.9944\n",
      "3      3       2.0      94.0   -37.7969    144.9969\n",
      "4      4       1.0     120.0   -37.8072    144.9941\n",
      "The predictions are...\n",
      "[1480000. 1035000. 1465000.  850000. 1600000.]\n"
     ]
    }
   ],
   "source": [
    "# the model is fitted, now predict!\n",
    "# Just checking the predict functions, will use the first few row of training data.\n",
    "# In practice, should use the houses without price \n",
    "print(\"Making prediction for the following 5 houses:\")\n",
    "print(X.head())\n",
    "print(\"The predictions are...\")\n",
    "predictions = melbourne_model.predict(X.head())\n",
    "print(predictions)"
   ]
  },
  {
   "cell_type": "code",
   "execution_count": 15,
   "id": "44d10db7",
   "metadata": {
    "execution": {
     "iopub.execute_input": "2023-07-06T02:58:31.815630Z",
     "iopub.status.busy": "2023-07-06T02:58:31.814716Z",
     "iopub.status.idle": "2023-07-06T02:58:31.823039Z",
     "shell.execute_reply": "2023-07-06T02:58:31.821917Z"
    },
    "papermill": {
     "duration": 0.027586,
     "end_time": "2023-07-06T02:58:31.825514",
     "exception": false,
     "start_time": "2023-07-06T02:58:31.797928",
     "status": "completed"
    },
    "tags": []
   },
   "outputs": [
    {
     "name": "stdout",
     "output_type": "stream",
     "text": [
      "0    1480000.0\n",
      "1    1035000.0\n",
      "2    1465000.0\n",
      "3     850000.0\n",
      "4    1600000.0\n",
      "Name: Price, dtype: float64\n",
      "[1480000. 1035000. 1465000.  850000. 1600000.]\n"
     ]
    }
   ],
   "source": [
    "# For a quick evaluation, compare the predicted result and actual values for the first 5 \n",
    "print(y.head())  # actual \n",
    "print(predictions[0:5])\n",
    "\n",
    "# They should be the same, because the model used the same data for training and predictions"
   ]
  },
  {
   "cell_type": "markdown",
   "id": "9c7c08fe",
   "metadata": {
    "papermill": {
     "duration": 0.014797,
     "end_time": "2023-07-06T02:58:31.855552",
     "exception": false,
     "start_time": "2023-07-06T02:58:31.840755",
     "status": "completed"
    },
    "tags": []
   },
   "source": [
    "### Model Validation\n",
    "* The process of measuring the quality of your model. \n",
    "* Measuring model quality is the **KEY** to **iteratively improving** your models."
   ]
  },
  {
   "cell_type": "code",
   "execution_count": 16,
   "id": "9d60837c",
   "metadata": {
    "execution": {
     "iopub.execute_input": "2023-07-06T02:58:31.887641Z",
     "iopub.status.busy": "2023-07-06T02:58:31.887137Z",
     "iopub.status.idle": "2023-07-06T02:58:31.892207Z",
     "shell.execute_reply": "2023-07-06T02:58:31.891096Z"
    },
    "papermill": {
     "duration": 0.023974,
     "end_time": "2023-07-06T02:58:31.894663",
     "exception": false,
     "start_time": "2023-07-06T02:58:31.870689",
     "status": "completed"
    },
    "tags": []
   },
   "outputs": [],
   "source": [
    "# In most cases, you measure the qualaity of Predictive Accuracy, meaning\n",
    "# \"Will your model's predictions be close to what actually happens?\"\n",
    "# here, using MAE(Mean Absolute Error) metric to measure\n",
    "# error = actual - predicted\n",
    "# The MAE resuls reads \"On average, the predictions are off by about X.\"\n",
    "# To calculate MAE, first you need a model."
   ]
  },
  {
   "cell_type": "code",
   "execution_count": 17,
   "id": "994793d5",
   "metadata": {
    "execution": {
     "iopub.execute_input": "2023-07-06T02:58:31.926910Z",
     "iopub.status.busy": "2023-07-06T02:58:31.926444Z",
     "iopub.status.idle": "2023-07-06T02:58:32.096669Z",
     "shell.execute_reply": "2023-07-06T02:58:32.095494Z"
    },
    "papermill": {
     "duration": 0.189736,
     "end_time": "2023-07-06T02:58:32.099620",
     "exception": false,
     "start_time": "2023-07-06T02:58:31.909884",
     "status": "completed"
    },
    "tags": []
   },
   "outputs": [
    {
     "data": {
      "text/plain": [
       "434.71594577146544"
      ]
     },
     "execution_count": 17,
     "metadata": {},
     "output_type": "execute_result"
    }
   ],
   "source": [
    "# Recap and repeat: Build a model to measrue using MAE\n",
    "\n",
    "import pandas as pd\n",
    "\n",
    "# load data\n",
    "melbourne_file_path = '/kaggle/input/mlebourne-20162017/melb_data.csv'\n",
    "melbourne_data = pd.read_csv(melbourne_file_path)\n",
    "\n",
    "# review data\n",
    "#print(melbourne_data.describe())\n",
    "#print(melbourne_data.head())\n",
    "#print(melbourne_data.columns)\n",
    "\n",
    "# filter rows with missing price values\n",
    "filtered_melbourne_data = melbourne_data.dropna(axis=0)\n",
    "\n",
    "# Choose your taget column and build features\n",
    "y = filtered_melbourne_data.Price\n",
    "melbourne_features = ['Rooms', 'Bathroom', 'Landsize', 'BuildingArea', \n",
    "                        'YearBuilt', 'Lattitude', 'Longtitude']\n",
    "X = filtered_melbourne_data[melbourne_features]\n",
    "\n",
    "#print(y)\n",
    "#print(X)\n",
    "\n",
    "\n",
    "from sklearn.tree import DecisionTreeRegressor\n",
    "\n",
    "# Define model\n",
    "melbourne_model = DecisionTreeRegressor()\n",
    "\n",
    "# Fit model \n",
    "melbourne_model.fit(X, y)\n",
    "\n",
    "# Model is ready and trained, calculate MAE\n",
    "from sklearn.metrics import mean_absolute_error\n",
    "\n",
    "predicted_home_prices = melbourne_model.predict(X) # predict for the dataset with selected features\n",
    "mean_absolute_error(y, predicted_home_prices)  # Validation using MAE, actual vs. predicted\n"
   ]
  },
  {
   "cell_type": "markdown",
   "id": "a587760d",
   "metadata": {
    "papermill": {
     "duration": 0.014688,
     "end_time": "2023-07-06T02:58:32.129825",
     "exception": false,
     "start_time": "2023-07-06T02:58:32.115137",
     "status": "completed"
    },
    "tags": []
   },
   "source": [
    "### The problem with \"In-Sample\" score\n",
    "\n",
    "The measure we just computed can be called an \"**in-sample**\" score. We used a single \"sample\" of houses for both building the model and evaluating it. Here's why this is **bad**.\n",
    "\n",
    "Imagine that, in the large real estate market, door color is unrelated to home price.\n",
    "\n",
    "However, in the sample of data you used to build the model, all homes with green doors were very expensive. The model's job is to find patterns that predict home prices, so it will see this pattern, and it will always predict high prices for homes with green doors.\n",
    "\n",
    "**Since this pattern was derived from the training data, the model will appear accurate in the training data.**\n",
    "\n",
    "But if this pattern doesn't hold when the model sees new data, the model would be very inaccurate when used in practice.\n",
    "\n",
    "**Since models' practical value come from making predictions on new data, we measure performance on data that wasn't used to build the model**. The most straightforward way to do this is to **exclude some data from the model-building process**, and then use those to **test the model's accuracy on data it hasn't seen before**. This data is called **validation data**"
   ]
  },
  {
   "cell_type": "code",
   "execution_count": 18,
   "id": "52009bca",
   "metadata": {
    "execution": {
     "iopub.execute_input": "2023-07-06T02:58:32.162189Z",
     "iopub.status.busy": "2023-07-06T02:58:32.161653Z",
     "iopub.status.idle": "2023-07-06T02:58:32.226211Z",
     "shell.execute_reply": "2023-07-06T02:58:32.224962Z"
    },
    "papermill": {
     "duration": 0.085564,
     "end_time": "2023-07-06T02:58:32.230469",
     "exception": false,
     "start_time": "2023-07-06T02:58:32.144905",
     "status": "completed"
    },
    "tags": []
   },
   "outputs": [
    {
     "name": "stdout",
     "output_type": "stream",
     "text": [
      "       Rooms  Bathroom  Landsize  BuildingArea  YearBuilt  Lattitude  \\\n",
      "8722       3       1.0     423.0        142.00     1920.0  -37.77917   \n",
      "3418       3       2.0       0.0         96.00     2000.0  -37.76940   \n",
      "9904       4       2.0     494.0        298.21     2014.0  -37.61424   \n",
      "9024       4       3.0     304.0        155.00     1970.0  -37.85430   \n",
      "6946       4       2.0     607.0        338.00     2015.0  -37.71600   \n",
      "...      ...       ...       ...           ...        ...        ...   \n",
      "1656       5       4.0     684.0        427.00     2013.0  -37.83200   \n",
      "10165      2       1.0      54.0         60.00     1970.0  -37.75948   \n",
      "7403       2       1.0       0.0         51.00     2012.0  -37.78470   \n",
      "404        4       2.0     844.0        278.00     1940.0  -37.87150   \n",
      "10093      2       1.0       0.0         38.00     1970.0  -37.80206   \n",
      "\n",
      "       Longtitude  \n",
      "8722    144.82223  \n",
      "3418    145.04060  \n",
      "9904    144.88705  \n",
      "9024    145.25253  \n",
      "6946    144.96630  \n",
      "...           ...  \n",
      "1656    145.08530  \n",
      "10165   144.94758  \n",
      "7403    144.93830  \n",
      "404     145.06880  \n",
      "10093   145.00015  \n",
      "\n",
      "[4647 rows x 7 columns]\n",
      "      Rooms  Bathroom  Landsize  BuildingArea  YearBuilt  Lattitude  \\\n",
      "6048      3       3.0     221.0         155.0     2011.0  -37.77080   \n",
      "9186      4       2.0     528.0         199.0     1980.0  -37.83539   \n",
      "3991      3       2.0       0.0         122.0     1998.0  -37.80950   \n",
      "5829      3       2.0    1039.0         133.0     2006.0  -37.86380   \n",
      "3616      6       6.0    1334.0         365.0     1890.0  -37.80290   \n",
      "...     ...       ...       ...           ...        ...        ...   \n",
      "829       2       1.0       0.0          75.0     1960.0  -37.90820   \n",
      "5926      3       1.0     700.0         145.0     1960.0  -37.79330   \n",
      "20        4       2.0     780.0         135.0     1900.0  -37.80730   \n",
      "3935      3       2.0     151.0           3.0     2010.0  -37.78550   \n",
      "2493      4       2.0     381.0         145.0     1890.0  -37.77350   \n",
      "\n",
      "      Longtitude  \n",
      "6048    144.8401  \n",
      "9186    145.0431  \n",
      "3991    144.9691  \n",
      "5829    144.9820  \n",
      "3616    145.0267  \n",
      "...          ...  \n",
      "829     145.0681  \n",
      "5926    144.8411  \n",
      "20      144.9952  \n",
      "3935    144.8958  \n",
      "2493    145.0192  \n",
      "\n",
      "[1549 rows x 7 columns]\n",
      "8722      570000.0\n",
      "3418      650000.0\n",
      "9904      840500.0\n",
      "9024      860000.0\n",
      "6946     1010000.0\n",
      "           ...    \n",
      "1656     3550000.0\n",
      "10165     460000.0\n",
      "7403      315000.0\n",
      "404      1950000.0\n",
      "10093     505000.0\n",
      "Name: Price, Length: 4647, dtype: float64\n",
      "6048     620000.0\n",
      "9186    2320000.0\n",
      "3991     750000.0\n",
      "5829    1120000.0\n",
      "3616    6500000.0\n",
      "          ...    \n",
      "829      486500.0\n",
      "5926     950000.0\n",
      "20      1330000.0\n",
      "3935     865000.0\n",
      "2493    1160000.0\n",
      "Name: Price, Length: 1549, dtype: float64\n",
      "251876.65138799226\n"
     ]
    }
   ],
   "source": [
    "# use train_test_split from sklearn to separate data for training and validation\n",
    "from sklearn.model_selection import train_test_split\n",
    "\n",
    "# split data into training and validation data, for both features and target\n",
    "# The split is based on a random number generator. Supplying a numeric value to\n",
    "# the random_state argument guarantees we get the same split every time we\n",
    "# run this script.\n",
    "\n",
    "train_X, val_X, train_y, val_y = train_test_split(X, y, random_state=1)\n",
    "\n",
    "print(train_X)\n",
    "print(val_X)\n",
    "print(train_y)\n",
    "print(val_y)\n",
    "\n",
    "# Define model\n",
    "melbourne_model = DecisionTreeRegressor(random_state=1)\n",
    "\n",
    "# Fit model using splitted portion of data for training\n",
    "melbourne_model.fit(train_X, train_y)\n",
    "\n",
    "# Get predicted prices on validation data\n",
    "val_predictions = melbourne_model.predict(val_X)\n",
    "\n",
    "# Check the MAE result on validation data\n",
    "print(mean_absolute_error(val_y, val_predictions))"
   ]
  },
  {
   "cell_type": "markdown",
   "id": "ec917bdf",
   "metadata": {
    "papermill": {
     "duration": 0.015091,
     "end_time": "2023-07-06T02:58:32.261191",
     "exception": false,
     "start_time": "2023-07-06T02:58:32.246100",
     "status": "completed"
    },
    "tags": []
   },
   "source": [
    "> Your mean absolute error for the in-sample data was about 500 dollars. Out-of-sample it is more than 250,000 dollars.\n",
    "> This is the difference between a model that is almost exactly right, and one that is unusable for most practical purposes. As a point of reference, the average home value in the validation data is 1.1 million dollars. So the error in new data is about a quarter of the average home value.\n",
    "> There are many ways to improve this model, such as experimenting to find better features or different model types."
   ]
  },
  {
   "cell_type": "markdown",
   "id": "169a2635",
   "metadata": {
    "papermill": {
     "duration": 0.014804,
     "end_time": "2023-07-06T02:58:32.291576",
     "exception": false,
     "start_time": "2023-07-06T02:58:32.276772",
     "status": "completed"
    },
    "tags": []
   },
   "source": [
    "### Underfitting and Overfitting\n",
    "Apply these ideas to make your model more accurate\n",
    "* **Overfitting** - a model matches the training data almost perfectly, but does poorly in validation and other new data\n",
    "* **Underfitting** - When a model fails to capture important distinctions and patterns in the data, so it performs poorly even in training data, that is called underfitting."
   ]
  },
  {
   "cell_type": "code",
   "execution_count": 19,
   "id": "70a1bccf",
   "metadata": {
    "execution": {
     "iopub.execute_input": "2023-07-06T02:58:32.324927Z",
     "iopub.status.busy": "2023-07-06T02:58:32.324462Z",
     "iopub.status.idle": "2023-07-06T02:58:32.331379Z",
     "shell.execute_reply": "2023-07-06T02:58:32.330201Z"
    },
    "papermill": {
     "duration": 0.026636,
     "end_time": "2023-07-06T02:58:32.334051",
     "exception": false,
     "start_time": "2023-07-06T02:58:32.307415",
     "status": "completed"
    },
    "tags": []
   },
   "outputs": [],
   "source": [
    "# Controlling leaves / tree depth using parameter - max_leaf_nodes\n",
    "\n",
    "# utility function to compare MAE using max_leaf_nodes\n",
    "\n",
    "from sklearn.metrics import mean_absolute_error\n",
    "from sklearn.tree import DecisionTreeRegressor\n",
    "\n",
    "def get_mae(max_leaf_nodes, train_X, val_X, train_y, val_y):\n",
    "    model = DecisionTreeRegressor(max_leaf_nodes=max_leaf_nodes, random_state=1)\n",
    "    model.fit(train_X, train_y)\n",
    "    preds_val = model.predict(val_X)\n",
    "    mae = mean_absolute_error(val_y, preds_val)\n",
    "    return(mae)"
   ]
  },
  {
   "cell_type": "code",
   "execution_count": 20,
   "id": "ec06b1a6",
   "metadata": {
    "execution": {
     "iopub.execute_input": "2023-07-06T02:58:32.368190Z",
     "iopub.status.busy": "2023-07-06T02:58:32.367297Z",
     "iopub.status.idle": "2023-07-06T02:58:32.522905Z",
     "shell.execute_reply": "2023-07-06T02:58:32.521679Z"
    },
    "papermill": {
     "duration": 0.17558,
     "end_time": "2023-07-06T02:58:32.525514",
     "exception": false,
     "start_time": "2023-07-06T02:58:32.349934",
     "status": "completed"
    },
    "tags": []
   },
   "outputs": [
    {
     "name": "stdout",
     "output_type": "stream",
     "text": [
      "Max leaf nodes: 5 \t\t Mean Absolute Error: 324110.91454760684\n",
      "Max leaf nodes: 50 \t\t Mean Absolute Error: 248796.2586659669\n",
      "Max leaf nodes: 500 \t\t Mean Absolute Error: 239296.12571612737\n",
      "Max leaf nodes: 590 \t\t Mean Absolute Error: 237442.73458675118\n",
      "Max leaf nodes: 600 \t\t Mean Absolute Error: 237533.29343871784\n",
      "Max leaf nodes: 5000 \t\t Mean Absolute Error: 251539.96126533247\n"
     ]
    }
   ],
   "source": [
    "# use a for-loop to compare the accuracy of models built with different values for max_leaf_nodes.\n",
    "# test with 4 different max_leaf_nodes values, and compare the mae results\n",
    "for max_leaf_nodes in [5, 50, 500, 590, 600, 5000]:\n",
    "    my_mae = get_mae(max_leaf_nodes, train_X, val_X, train_y, val_y)\n",
    "    print(\"Max leaf nodes: {max_leaf_nodes} \\t\\t Mean Absolute Error: {mae}\".format(max_leaf_nodes=max_leaf_nodes, mae=my_mae))"
   ]
  },
  {
   "cell_type": "markdown",
   "id": "652fde0f",
   "metadata": {
    "papermill": {
     "duration": 0.015378,
     "end_time": "2023-07-06T02:58:32.556767",
     "exception": false,
     "start_time": "2023-07-06T02:58:32.541389",
     "status": "completed"
    },
    "tags": []
   },
   "source": [
    "Of the options listed, 590 is the optimal number of leaves."
   ]
  },
  {
   "cell_type": "markdown",
   "id": "52f69f01",
   "metadata": {
    "papermill": {
     "duration": 0.015411,
     "end_time": "2023-07-06T02:58:32.588420",
     "exception": false,
     "start_time": "2023-07-06T02:58:32.573009",
     "status": "completed"
    },
    "tags": []
   },
   "source": [
    "### Takeaways\n",
    "Here's the takeaway: Models can suffer from either:\n",
    "\n",
    "**Overfitting**: capturing spurious patterns that won't recur in the future, leading to less accurate predictions, or   \n",
    "**Underfitting**: failing to capture relevant patterns, again leading to less accurate predictions.\n",
    "We use validation data, which isn't used in model training, to measure a candidate model's accuracy. This lets us try many candidate models and keep the best one."
   ]
  },
  {
   "cell_type": "markdown",
   "id": "d6f5addc",
   "metadata": {
    "papermill": {
     "duration": 0.015298,
     "end_time": "2023-07-06T02:58:32.619408",
     "exception": false,
     "start_time": "2023-07-06T02:58:32.604110",
     "status": "completed"
    },
    "tags": []
   },
   "source": [
    "### Recap / Repeat\n",
    "Build the model again with the previous data, and now optimize the size of the tree to make better predictions."
   ]
  },
  {
   "cell_type": "code",
   "execution_count": 21,
   "id": "86f6e2c7",
   "metadata": {
    "execution": {
     "iopub.execute_input": "2023-07-06T02:58:32.653815Z",
     "iopub.status.busy": "2023-07-06T02:58:32.653353Z",
     "iopub.status.idle": "2023-07-06T02:58:32.720089Z",
     "shell.execute_reply": "2023-07-06T02:58:32.718896Z"
    },
    "papermill": {
     "duration": 0.087338,
     "end_time": "2023-07-06T02:58:32.723280",
     "exception": false,
     "start_time": "2023-07-06T02:58:32.635942",
     "status": "completed"
    },
    "tags": []
   },
   "outputs": [
    {
     "name": "stdout",
     "output_type": "stream",
     "text": [
      "Validation MAE: 29,653\n"
     ]
    }
   ],
   "source": [
    "# import required packages\n",
    "import pandas as pd\n",
    "from sklearn.tree import DecisionTreeRegressor\n",
    "from sklearn.metrics import mean_absolute_error\n",
    "from sklearn.model_selection import train_test_split\n",
    "\n",
    "# load data\n",
    "iowa_file_path = '/kaggle/input/home-data-for-ml-course/train.csv'\n",
    "iowa_data = pd.read_csv(iowa_file_path)\n",
    "\n",
    "#print(iowa_data.head())\n",
    "#print(iowa_data.describe())\n",
    "iowa_data.columns\n",
    "\n",
    "# Create a target object - y\n",
    "y = iowa_data.SalePrice\n",
    "\n",
    "# Create features - X\n",
    "features = ['LotArea', 'YearBuilt', '1stFlrSF', '2ndFlrSF', 'FullBath', 'BedroomAbvGr', 'TotRmsAbvGrd']\n",
    "X = iowa_data[features]\n",
    "\n",
    "# Split data into training and validation\n",
    "train_X, val_X, train_y, val_y = train_test_split(X, y, random_state=1)\n",
    "\n",
    "# Specify model\n",
    "iowa_model = DecisionTreeRegressor(random_state=1)\n",
    "\n",
    "# Fit model\n",
    "iowa_model.fit(train_X, train_y)\n",
    "\n",
    "# Make validation predictions and calculate MAE and print\n",
    "val_predictions = iowa_model.predict(val_X)\n",
    "val_mae = mean_absolute_error(val_y, val_predictions)\n",
    "print(\"Validation MAE: {:,.0f}\".format(val_mae))\n"
   ]
  },
  {
   "cell_type": "code",
   "execution_count": 22,
   "id": "2d79bd12",
   "metadata": {
    "execution": {
     "iopub.execute_input": "2023-07-06T02:58:32.757774Z",
     "iopub.status.busy": "2023-07-06T02:58:32.756376Z",
     "iopub.status.idle": "2023-07-06T02:58:32.763607Z",
     "shell.execute_reply": "2023-07-06T02:58:32.762595Z"
    },
    "papermill": {
     "duration": 0.026886,
     "end_time": "2023-07-06T02:58:32.765920",
     "exception": false,
     "start_time": "2023-07-06T02:58:32.739034",
     "status": "completed"
    },
    "tags": []
   },
   "outputs": [],
   "source": [
    "# helper function to fit and calculate MAE with splitted data - training, validation\n",
    "# using the given number of leaf nodes\n",
    "def get_mae(max_leaf_nodes, train_X, val_X, train_y, val_y):\n",
    "    model = DecisionTreeRegressor(max_leaf_nodes=max_leaf_nodes, random_state=0)\n",
    "    model.fit(train_X, train_y)\n",
    "    predictions_val = model.predict(val_X)\n",
    "    mae = mean_absolute_error(val_y, predictions_val)\n",
    "    return mae"
   ]
  },
  {
   "cell_type": "markdown",
   "id": "b803fad8",
   "metadata": {
    "papermill": {
     "duration": 0.016778,
     "end_time": "2023-07-06T02:58:32.798466",
     "exception": false,
     "start_time": "2023-07-06T02:58:32.781688",
     "status": "completed"
    },
    "tags": []
   },
   "source": [
    "### 1. Compare different tree sizes"
   ]
  },
  {
   "cell_type": "code",
   "execution_count": 23,
   "id": "13c94359",
   "metadata": {
    "execution": {
     "iopub.execute_input": "2023-07-06T02:58:32.832577Z",
     "iopub.status.busy": "2023-07-06T02:58:32.832124Z",
     "iopub.status.idle": "2023-07-06T02:58:32.883224Z",
     "shell.execute_reply": "2023-07-06T02:58:32.881915Z"
    },
    "papermill": {
     "duration": 0.07177,
     "end_time": "2023-07-06T02:58:32.886486",
     "exception": false,
     "start_time": "2023-07-06T02:58:32.814716",
     "status": "completed"
    },
    "tags": []
   },
   "outputs": [
    {
     "name": "stdout",
     "output_type": "stream",
     "text": [
      "{5: 35044.51299744237, 25: 29016.41319191076, 50: 27405.930473214907, 100: 27282.50803885739, 250: 27893.822225701646, 500: 29454.18598068598}\n",
      "100\n"
     ]
    }
   ],
   "source": [
    "# Write a loop that tries the following values for max_leaf_nodes from \n",
    "# a set of possible values.\n",
    "\n",
    "# list of trial max_leaf_nodes\n",
    "candidate_max_leaf_nodes = [5, 25, 50, 100, 250, 500]\n",
    "\n",
    "# Loop through the candidates and save the nodes:mae pair to a dictionary\n",
    "# using list comprehension for the dictionary\n",
    "scores = { leaf_size:get_mae(leaf_size, train_X, val_X, train_y, val_y) for leaf_size in candidate_max_leaf_nodes }\n",
    "print(scores)\n",
    "\n",
    "# Save the best max_leaf_size \n",
    "best_tree_size = min(scores, key=scores.get)\n",
    "print(best_tree_size)"
   ]
  },
  {
   "cell_type": "markdown",
   "id": "eaefe25a",
   "metadata": {
    "papermill": {
     "duration": 0.015636,
     "end_time": "2023-07-06T02:58:32.918284",
     "exception": false,
     "start_time": "2023-07-06T02:58:32.902648",
     "status": "completed"
    },
    "tags": []
   },
   "source": [
    "### 2. Fit model using ALL data\n",
    "You know the best tree size. If you were going to deploy this model in practice, you would make it even more accurate by using all of the data and keeping that tree size. That is, you don't need to hold out the validation data now that you've made all your modeling decisions."
   ]
  },
  {
   "cell_type": "code",
   "execution_count": 24,
   "id": "bd8951b9",
   "metadata": {
    "execution": {
     "iopub.execute_input": "2023-07-06T02:58:32.952945Z",
     "iopub.status.busy": "2023-07-06T02:58:32.952138Z",
     "iopub.status.idle": "2023-07-06T02:58:32.968199Z",
     "shell.execute_reply": "2023-07-06T02:58:32.966956Z"
    },
    "papermill": {
     "duration": 0.036559,
     "end_time": "2023-07-06T02:58:32.970983",
     "exception": false,
     "start_time": "2023-07-06T02:58:32.934424",
     "status": "completed"
    },
    "tags": []
   },
   "outputs": [
    {
     "data": {
      "text/html": [
       "<style>#sk-container-id-2 {color: black;background-color: white;}#sk-container-id-2 pre{padding: 0;}#sk-container-id-2 div.sk-toggleable {background-color: white;}#sk-container-id-2 label.sk-toggleable__label {cursor: pointer;display: block;width: 100%;margin-bottom: 0;padding: 0.3em;box-sizing: border-box;text-align: center;}#sk-container-id-2 label.sk-toggleable__label-arrow:before {content: \"▸\";float: left;margin-right: 0.25em;color: #696969;}#sk-container-id-2 label.sk-toggleable__label-arrow:hover:before {color: black;}#sk-container-id-2 div.sk-estimator:hover label.sk-toggleable__label-arrow:before {color: black;}#sk-container-id-2 div.sk-toggleable__content {max-height: 0;max-width: 0;overflow: hidden;text-align: left;background-color: #f0f8ff;}#sk-container-id-2 div.sk-toggleable__content pre {margin: 0.2em;color: black;border-radius: 0.25em;background-color: #f0f8ff;}#sk-container-id-2 input.sk-toggleable__control:checked~div.sk-toggleable__content {max-height: 200px;max-width: 100%;overflow: auto;}#sk-container-id-2 input.sk-toggleable__control:checked~label.sk-toggleable__label-arrow:before {content: \"▾\";}#sk-container-id-2 div.sk-estimator input.sk-toggleable__control:checked~label.sk-toggleable__label {background-color: #d4ebff;}#sk-container-id-2 div.sk-label input.sk-toggleable__control:checked~label.sk-toggleable__label {background-color: #d4ebff;}#sk-container-id-2 input.sk-hidden--visually {border: 0;clip: rect(1px 1px 1px 1px);clip: rect(1px, 1px, 1px, 1px);height: 1px;margin: -1px;overflow: hidden;padding: 0;position: absolute;width: 1px;}#sk-container-id-2 div.sk-estimator {font-family: monospace;background-color: #f0f8ff;border: 1px dotted black;border-radius: 0.25em;box-sizing: border-box;margin-bottom: 0.5em;}#sk-container-id-2 div.sk-estimator:hover {background-color: #d4ebff;}#sk-container-id-2 div.sk-parallel-item::after {content: \"\";width: 100%;border-bottom: 1px solid gray;flex-grow: 1;}#sk-container-id-2 div.sk-label:hover label.sk-toggleable__label {background-color: #d4ebff;}#sk-container-id-2 div.sk-serial::before {content: \"\";position: absolute;border-left: 1px solid gray;box-sizing: border-box;top: 0;bottom: 0;left: 50%;z-index: 0;}#sk-container-id-2 div.sk-serial {display: flex;flex-direction: column;align-items: center;background-color: white;padding-right: 0.2em;padding-left: 0.2em;position: relative;}#sk-container-id-2 div.sk-item {position: relative;z-index: 1;}#sk-container-id-2 div.sk-parallel {display: flex;align-items: stretch;justify-content: center;background-color: white;position: relative;}#sk-container-id-2 div.sk-item::before, #sk-container-id-2 div.sk-parallel-item::before {content: \"\";position: absolute;border-left: 1px solid gray;box-sizing: border-box;top: 0;bottom: 0;left: 50%;z-index: -1;}#sk-container-id-2 div.sk-parallel-item {display: flex;flex-direction: column;z-index: 1;position: relative;background-color: white;}#sk-container-id-2 div.sk-parallel-item:first-child::after {align-self: flex-end;width: 50%;}#sk-container-id-2 div.sk-parallel-item:last-child::after {align-self: flex-start;width: 50%;}#sk-container-id-2 div.sk-parallel-item:only-child::after {width: 0;}#sk-container-id-2 div.sk-dashed-wrapped {border: 1px dashed gray;margin: 0 0.4em 0.5em 0.4em;box-sizing: border-box;padding-bottom: 0.4em;background-color: white;}#sk-container-id-2 div.sk-label label {font-family: monospace;font-weight: bold;display: inline-block;line-height: 1.2em;}#sk-container-id-2 div.sk-label-container {text-align: center;}#sk-container-id-2 div.sk-container {/* jupyter's `normalize.less` sets `[hidden] { display: none; }` but bootstrap.min.css set `[hidden] { display: none !important; }` so we also need the `!important` here to be able to override the default hidden behavior on the sphinx rendered scikit-learn.org. See: https://github.com/scikit-learn/scikit-learn/issues/21755 */display: inline-block !important;position: relative;}#sk-container-id-2 div.sk-text-repr-fallback {display: none;}</style><div id=\"sk-container-id-2\" class=\"sk-top-container\"><div class=\"sk-text-repr-fallback\"><pre>DecisionTreeRegressor(max_leaf_nodes=100, random_state=1)</pre><b>In a Jupyter environment, please rerun this cell to show the HTML representation or trust the notebook. <br />On GitHub, the HTML representation is unable to render, please try loading this page with nbviewer.org.</b></div><div class=\"sk-container\" hidden><div class=\"sk-item\"><div class=\"sk-estimator sk-toggleable\"><input class=\"sk-toggleable__control sk-hidden--visually\" id=\"sk-estimator-id-2\" type=\"checkbox\" checked><label for=\"sk-estimator-id-2\" class=\"sk-toggleable__label sk-toggleable__label-arrow\">DecisionTreeRegressor</label><div class=\"sk-toggleable__content\"><pre>DecisionTreeRegressor(max_leaf_nodes=100, random_state=1)</pre></div></div></div></div></div>"
      ],
      "text/plain": [
       "DecisionTreeRegressor(max_leaf_nodes=100, random_state=1)"
      ]
     },
     "execution_count": 24,
     "metadata": {},
     "output_type": "execute_result"
    }
   ],
   "source": [
    "# build a final model using the selected max_leaf_nodes size \n",
    "final_model = DecisionTreeRegressor(max_leaf_nodes=best_tree_size, random_state=1)\n",
    "\n",
    "# fit the final model with entire data\n",
    "final_model.fit(X, y)"
   ]
  },
  {
   "cell_type": "markdown",
   "id": "f2fa6d81",
   "metadata": {
    "papermill": {
     "duration": 0.015925,
     "end_time": "2023-07-06T02:58:33.003183",
     "exception": false,
     "start_time": "2023-07-06T02:58:32.987258",
     "status": "completed"
    },
    "tags": []
   },
   "source": [
    "You've **tuned** this model and **improved** your results. But we are still using Decision Tree models, which are not very sophisticated by modern machine learning standards. In the next step you will learn to use **Random Forests** to **improve** your models **even more**."
   ]
  },
  {
   "cell_type": "code",
   "execution_count": null,
   "id": "268bf7c8",
   "metadata": {
    "papermill": {
     "duration": 0.015488,
     "end_time": "2023-07-06T02:58:33.034829",
     "exception": false,
     "start_time": "2023-07-06T02:58:33.019341",
     "status": "completed"
    },
    "tags": []
   },
   "outputs": [],
   "source": []
  }
 ],
 "metadata": {
  "kernelspec": {
   "display_name": "Python 3",
   "language": "python",
   "name": "python3"
  },
  "language_info": {
   "codemirror_mode": {
    "name": "ipython",
    "version": 3
   },
   "file_extension": ".py",
   "mimetype": "text/x-python",
   "name": "python",
   "nbconvert_exporter": "python",
   "pygments_lexer": "ipython3",
   "version": "3.10.10"
  },
  "papermill": {
   "default_parameters": {},
   "duration": 17.359959,
   "end_time": "2023-07-06T02:58:34.075624",
   "environment_variables": {},
   "exception": null,
   "input_path": "__notebook__.ipynb",
   "output_path": "__notebook__.ipynb",
   "parameters": {},
   "start_time": "2023-07-06T02:58:16.715665",
   "version": "2.4.0"
  }
 },
 "nbformat": 4,
 "nbformat_minor": 5
}
